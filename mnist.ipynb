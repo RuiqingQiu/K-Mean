{
 "metadata": {
  "name": "",
  "signature": "sha256:bc9b94134299a572a197371707297f03e1f31c88955ad1142c20098ad7e12463"
 },
 "nbformat": 3,
 "nbformat_minor": 0,
 "worksheets": [
  {
   "cells": [
    {
     "cell_type": "code",
     "collapsed": false,
     "input": [
      "%matplotlib inline\n",
      "import os, struct\n",
      "from array import array as pyarray\n",
      "import numpy as np\n",
      "from numpy import append, array, int8, uint8, zeros\n",
      "from pylab import *\n",
      "from numpy import *"
     ],
     "language": "python",
     "metadata": {},
     "outputs": [],
     "prompt_number": 25
    },
    {
     "cell_type": "code",
     "collapsed": false,
     "input": [
      "def load_mnist(dataset=\"training\", digits=np.arange(10), path=\".\"):\n",
      "    \"\"\"\n",
      "    Loads MNIST files into 3D numpy arrays\n",
      "\n",
      "    Adapted from: http://abel.ee.ucla.edu/cvxopt/_downloads/mnist.py\n",
      "    \"\"\"\n",
      "\n",
      "    if dataset == \"training\":\n",
      "        fname_img = os.path.join(path, 'train-images-idx3-ubyte')\n",
      "        fname_lbl = os.path.join(path, 'train-labels-idx1-ubyte')\n",
      "    elif dataset == \"testing\":\n",
      "        fname_img = os.path.join(path, 't10k-images-idx3-ubyte')\n",
      "        fname_lbl = os.path.join(path, 't10k-labels-idx1-ubyte')\n",
      "    else:\n",
      "        raise ValueError(\"dataset must be 'testing' or 'training'\")\n",
      "\n",
      "    flbl = open(fname_lbl, 'rb')\n",
      "    magic_nr, size = struct.unpack(\">II\", flbl.read(8))\n",
      "    lbl = pyarray(\"b\", flbl.read())\n",
      "    flbl.close()\n",
      "\n",
      "    fimg = open(fname_img, 'rb')\n",
      "    magic_nr, size, rows, cols = struct.unpack(\">IIII\", fimg.read(16))\n",
      "    img = pyarray(\"B\", fimg.read())\n",
      "    fimg.close()\n",
      "\n",
      "    ind = [ k for k in range(size) if lbl[k] in digits ]\n",
      "    N = len(ind)\n",
      "\n",
      "    images = zeros((N, rows, cols), dtype=uint8)\n",
      "    labels = zeros((N, 1), dtype=int8)\n",
      "    for i in range(len(ind)):\n",
      "        images[i] = array(img[ ind[i]*rows*cols : (ind[i]+1)*rows*cols ]).reshape((rows, cols))\n",
      "        labels[i] = lbl[ind[i]]\n",
      "\n",
      "    return images, labels"
     ],
     "language": "python",
     "metadata": {},
     "outputs": [],
     "prompt_number": 26
    },
    {
     "cell_type": "code",
     "collapsed": false,
     "input": [
      "images, labels = load_mnist('training', digits=[9])\n",
      "#imshow(images.mean(axis=0), cmap=cm.gray)\n",
      "imshow(images[0], cmap=cm.gray)\n",
      "show()\n",
      "imshow(images[1], cmap=cm.gray)\n",
      "show()"
     ],
     "language": "python",
     "metadata": {},
     "outputs": [
      {
       "output_type": "stream",
       "stream": "stdout",
       "text": [
        "[[[0 0 0 ..., 0 0 0]\n",
        "  [0 0 0 ..., 0 0 0]\n",
        "  [0 0 0 ..., 0 0 0]\n",
        "  ..., \n",
        "  [0 0 0 ..., 0 0 0]\n",
        "  [0 0 0 ..., 0 0 0]\n",
        "  [0 0 0 ..., 0 0 0]]\n",
        "\n",
        " [[0 0 0 ..., 0 0 0]\n",
        "  [0 0 0 ..., 0 0 0]\n",
        "  [0 0 0 ..., 0 0 0]\n",
        "  ..., \n",
        "  [0 0 0 ..., 0 0 0]\n",
        "  [0 0 0 ..., 0 0 0]\n",
        "  [0 0 0 ..., 0 0 0]]\n",
        "\n",
        " [[0 0 0 ..., 0 0 0]\n",
        "  [0 0 0 ..., 0 0 0]\n",
        "  [0 0 0 ..., 0 0 0]\n",
        "  ..., \n",
        "  [0 0 0 ..., 0 0 0]\n",
        "  [0 0 0 ..., 0 0 0]\n",
        "  [0 0 0 ..., 0 0 0]]\n",
        "\n",
        " ..., \n",
        " [[0 0 0 ..., 0 0 0]\n",
        "  [0 0 0 ..., 0 0 0]\n",
        "  [0 0 0 ..., 0 0 0]\n",
        "  ..., \n",
        "  [0 0 0 ..., 0 0 0]\n",
        "  [0 0 0 ..., 0 0 0]\n",
        "  [0 0 0 ..., 0 0 0]]\n",
        "\n",
        " [[0 0 0 ..., 0 0 0]\n",
        "  [0 0 0 ..., 0 0 0]\n",
        "  [0 0 0 ..., 0 0 0]\n",
        "  ..., \n",
        "  [0 0 0 ..., 0 0 0]\n",
        "  [0 0 0 ..., 0 0 0]\n",
        "  [0 0 0 ..., 0 0 0]]\n",
        "\n",
        " [[0 0 0 ..., 0 0 0]\n",
        "  [0 0 0 ..., 0 0 0]\n",
        "  [0 0 0 ..., 0 0 0]\n",
        "  ..., \n",
        "  [0 0 0 ..., 0 0 0]\n",
        "  [0 0 0 ..., 0 0 0]\n",
        "  [0 0 0 ..., 0 0 0]]]\n",
        "[[0]\n",
        " [0]\n",
        " [0]\n",
        " ..., \n",
        " [0]\n",
        " [0]\n",
        " [0]]\n"
       ]
      },
      {
       "metadata": {},
       "output_type": "display_data",
       "png": "[encoded data removed]",
       "text": [
        "<matplotlib.figure.Figure at 0x10c0add90>"
       ]
      },
      {
       "metadata": {},
       "output_type": "display_data",
       "png": "[encoded data removed]",
       "text": [
        "<matplotlib.figure.Figure at 0x10c9444d0>"
       ]
      }
     ],
     "prompt_number": 27
    },
    {
     "cell_type": "code",
     "collapsed": false,
     "input": [],
     "language": "python",
     "metadata": {},
     "outputs": [],
     "prompt_number": 27
    }
   ],
   "metadata": {}
  }
 ]
}