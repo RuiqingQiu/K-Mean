{
 "cells": [
  {
   "cell_type": "code",
   "execution_count": 1,
   "metadata": {
    "collapsed": false
   },
   "outputs": [],
   "source": [
    "%matplotlib inline\n",
    "import numpy as np\n",
    "from sklearn.cluster import MeanShift, estimate_bandwidth\n",
    "from sklearn.datasets.samples_generator import make_blobs"
   ]
  },
  {
   "cell_type": "code",
   "execution_count": 2,
   "metadata": {
    "collapsed": true
   },
   "outputs": [],
   "source": [
    "from math import exp\n",
    "# define a gaussian kernel function\n",
    "def GaussianKernel(v1, v2, sigma):\n",
    "    return exp(-norm(v1-v2, 2)**2/(2.*sigma**2))\n",
    "\n",
    "# this is a simple kernel\n",
    "def simpleKernel(n1,n2,sigma):\n",
    "    difference = float(n1) - float(n2)\n",
    "    difference = pow(difference,2)\n",
    "    difference = (-1.0*difference)/ (sigma**2)\n",
    "    return exp(difference)"
   ]
  },
  {
   "cell_type": "code",
   "execution_count": 3,
   "metadata": {
    "collapsed": true
   },
   "outputs": [],
   "source": [
    "from scipy.spatial import distance\n",
    "\n",
    "def K_Nearest_Neighbor(current, k, data):\n",
    "    return_list = []\n",
    "    index = 0\n",
    "    distanceList = []\n",
    "    for x in data:\n",
    "        distanceList.append((distance.euclidean(current, x), x))\n",
    "    distanceList.sort()\n",
    "    #get the k nearest label\n",
    "    for i in range (0, k):\n",
    "        #append the first k smallest element\n",
    "        return_list.append(distanceList[i][1])\n",
    "    return return_list"
   ]
  },
  {
   "cell_type": "code",
   "execution_count": 4,
   "metadata": {
    "collapsed": false
   },
   "outputs": [
    {
     "name": "stdout",
     "output_type": "stream",
     "text": [
      "<type 'numpy.ndarray'>\n",
      "1000\n",
      "2000\n",
      "Actual mean is  15\n"
     ]
    }
   ],
   "source": [
    "# implement simple mean shift\n",
    "\n",
    "import numpy as np\n",
    "\n",
    "mu, sigma = 10, 1 # mean and standard deviation\n",
    "s = np.random.normal(mu, sigma, 1000)\n",
    "print type(s)\n",
    "print len(s)\n",
    "mu, sigma = 15, 1\n",
    "s = list(s) + list(np.random.normal(mu, sigma, 1000))\n",
    "s = np.array(s)\n",
    "print len(s)\n",
    "print \"Actual mean is \", mu"
   ]
  },
  {
   "cell_type": "code",
   "execution_count": 11,
   "metadata": {
    "collapsed": false
   },
   "outputs": [
    {
     "name": "stdout",
     "output_type": "stream",
     "text": [
      "mean is  11.4770988858\n",
      "num of experiment  0\n"
     ]
    },
    {
     "ename": "NameError",
     "evalue": "global name 'norm' is not defined",
     "output_type": "error",
     "traceback": [
      "\u001b[0;31m---------------------------------------------------------------------------\u001b[0m",
      "\u001b[0;31mNameError\u001b[0m                                 Traceback (most recent call last)",
      "\u001b[0;32m<ipython-input-11-fdc923514350>\u001b[0m in \u001b[0;36m<module>\u001b[0;34m()\u001b[0m\n\u001b[1;32m     34\u001b[0m             \u001b[0;31m# current is from the last iteration which get the nearest neighbor\u001b[0m\u001b[0;34m\u001b[0m\u001b[0;34m\u001b[0m\u001b[0m\n\u001b[1;32m     35\u001b[0m             \u001b[0;31m#print i\u001b[0m\u001b[0;34m\u001b[0m\u001b[0;34m\u001b[0m\u001b[0m\n\u001b[0;32m---> 36\u001b[0;31m             \u001b[0mweight\u001b[0m \u001b[0;34m=\u001b[0m \u001b[0mGaussianKernel\u001b[0m\u001b[0;34m(\u001b[0m\u001b[0mestimate\u001b[0m\u001b[0;34m,\u001b[0m\u001b[0mi\u001b[0m\u001b[0;34m,\u001b[0m\u001b[0;36m3.0\u001b[0m\u001b[0;34m)\u001b[0m\u001b[0;34m\u001b[0m\u001b[0m\n\u001b[0m\u001b[1;32m     37\u001b[0m             \u001b[0;31m#print \"kernel result is \", weight\u001b[0m\u001b[0;34m\u001b[0m\u001b[0;34m\u001b[0m\u001b[0m\n\u001b[1;32m     38\u001b[0m             \u001b[0mnumerator\u001b[0m \u001b[0;34m=\u001b[0m \u001b[0mnumerator\u001b[0m \u001b[0;34m+\u001b[0m \u001b[0mweight\u001b[0m\u001b[0;34m*\u001b[0m\u001b[0mi\u001b[0m\u001b[0;34m\u001b[0m\u001b[0m\n",
      "\u001b[0;32m<ipython-input-2-a825f428cc58>\u001b[0m in \u001b[0;36mGaussianKernel\u001b[0;34m(v1, v2, sigma)\u001b[0m\n\u001b[1;32m      2\u001b[0m \u001b[0;31m# define a gaussian kernel function\u001b[0m\u001b[0;34m\u001b[0m\u001b[0;34m\u001b[0m\u001b[0m\n\u001b[1;32m      3\u001b[0m \u001b[0;32mdef\u001b[0m \u001b[0mGaussianKernel\u001b[0m\u001b[0;34m(\u001b[0m\u001b[0mv1\u001b[0m\u001b[0;34m,\u001b[0m \u001b[0mv2\u001b[0m\u001b[0;34m,\u001b[0m \u001b[0msigma\u001b[0m\u001b[0;34m)\u001b[0m\u001b[0;34m:\u001b[0m\u001b[0;34m\u001b[0m\u001b[0m\n\u001b[0;32m----> 4\u001b[0;31m     \u001b[0;32mreturn\u001b[0m \u001b[0mexp\u001b[0m\u001b[0;34m(\u001b[0m\u001b[0;34m-\u001b[0m\u001b[0mnorm\u001b[0m\u001b[0;34m(\u001b[0m\u001b[0mv1\u001b[0m\u001b[0;34m-\u001b[0m\u001b[0mv2\u001b[0m\u001b[0;34m,\u001b[0m \u001b[0;36m2\u001b[0m\u001b[0;34m)\u001b[0m\u001b[0;34m**\u001b[0m\u001b[0;36m2\u001b[0m\u001b[0;34m/\u001b[0m\u001b[0;34m(\u001b[0m\u001b[0;36m2.\u001b[0m\u001b[0;34m*\u001b[0m\u001b[0msigma\u001b[0m\u001b[0;34m**\u001b[0m\u001b[0;36m2\u001b[0m\u001b[0;34m)\u001b[0m\u001b[0;34m)\u001b[0m\u001b[0;34m\u001b[0m\u001b[0m\n\u001b[0m\u001b[1;32m      5\u001b[0m \u001b[0;34m\u001b[0m\u001b[0m\n\u001b[1;32m      6\u001b[0m \u001b[0;31m# this is a simple kernel\u001b[0m\u001b[0;34m\u001b[0m\u001b[0;34m\u001b[0m\u001b[0m\n",
      "\u001b[0;31mNameError\u001b[0m: global name 'norm' is not defined"
     ]
    }
   ],
   "source": [
    "# random pick a point and look at the nearest 20 neighbors and take the average \n",
    "from random import randrange\n",
    "\n",
    "threshold = 0.0000001\n",
    "prev = 0.0\n",
    "\n",
    "# indicate how many neighbors to look\n",
    "number_of_neighbors = 200\n",
    "#sigma = 1.0 # this is for kernel sigma\n",
    "\n",
    "# random choose a point\n",
    "random_index = randrange(0,len(s))\n",
    "# randomly initialize the mean\n",
    "estimate = s[random_index]\n",
    "iteration = 0\n",
    "num_of_experiment = 10\n",
    "\n",
    "for i in range(0,num_of_experiment):\n",
    "    random_index = randrange(0,len(s))\n",
    "    estimate = s[random_index]\n",
    "    iteration = 0\n",
    "    print \"mean is \", estimate\n",
    "    print \"num of experiment \", i\n",
    "    # while less than threshold\n",
    "    while abs(estimate-prev) >= threshold:\n",
    "        count = 0 # count how many points added to the mean\n",
    "        lst = K_Nearest_Neighbor(estimate, number_of_neighbors, s)\n",
    "        #print lst\n",
    "        iteration = iteration + 1\n",
    "        numerator = 0.0\n",
    "        denominator = 0.0\n",
    "        for i in lst:\n",
    "            # apply the kernel function\n",
    "            # current is from the last iteration which get the nearest neighbor\n",
    "            # print i\n",
    "            weight = simpleKernel(estimate,i,3.0)\n",
    "            #print \"kernel result is \", weight\n",
    "            numerator = numerator + weight*i\n",
    "            #print \"nominator \", numerator\n",
    "            denominator = denominator + weight\n",
    "            #print \"denominator \", denominator\n",
    "            #mean = mean + i\n",
    "            count = count + 1\n",
    "        # update mean\n",
    "        prev = estimate\n",
    "        estimate = numerator/denominator\n",
    "        #print \"current is \", estimate\n",
    "        #print \"prev is \", prev\n",
    "\n",
    "\n",
    "    print \"number of KNN \", iteration    \n",
    "    print \"converged mode is \", estimate\n"
   ]
  },
  {
   "cell_type": "code",
   "execution_count": 10,
   "metadata": {
    "collapsed": false
   },
   "outputs": [
    {
     "data": {
      "image/png": "[encoded data removed]",
      "text/plain": [
       "<matplotlib.figure.Figure at 0x107efca10>"
      ]
     },
     "metadata": {},
     "output_type": "display_data"
    }
   ],
   "source": [
    "import matplotlib.pyplot as plt\n",
    "s.sort()\n",
    "count, bins, ignored = plt.hist(s, 30, normed=True)\n",
    "#plt.plot(bins, 1/(sigma * np.sqrt(2 * np.pi)) * np.exp( - (bins - mu)**2 / (2 * sigma**2) ), linewidth=2, color='r')\n",
    "plt.show()"
   ]
  },
  {
   "cell_type": "code",
   "execution_count": null,
   "metadata": {
    "collapsed": true
   },
   "outputs": [],
   "source": []
  },
  {
   "cell_type": "code",
   "execution_count": null,
   "metadata": {
    "collapsed": true
   },
   "outputs": [],
   "source": []
  },
  {
   "cell_type": "code",
   "execution_count": null,
   "metadata": {
    "collapsed": true
   },
   "outputs": [],
   "source": []
  }
 ],
 "metadata": {
  "kernelspec": {
   "display_name": "Python 2",
   "language": "python",
   "name": "python2"
  },
  "language_info": {
   "codemirror_mode": {
    "name": "ipython",
    "version": 2
   },
   "file_extension": ".py",
   "mimetype": "text/x-python",
   "name": "python",
   "nbconvert_exporter": "python",
   "pygments_lexer": "ipython2",
   "version": "2.7.9"
  }
 },
 "nbformat": 4,
 "nbformat_minor": 0
}
