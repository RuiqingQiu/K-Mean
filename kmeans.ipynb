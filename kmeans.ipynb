{
 "metadata": {
  "name": "",
  "signature": "sha256:7868862dc2b3f551e577ae78a2957cea04a11e88eb1b99f477aced3853d9947a"
 },
 "nbformat": 3,
 "nbformat_minor": 0,
 "worksheets": [
  {
   "cells": [
    {
     "cell_type": "code",
     "collapsed": false,
     "input": [
      "%matplotlib inline"
     ],
     "language": "python",
     "metadata": {},
     "outputs": [],
     "prompt_number": 1
    },
    {
     "cell_type": "code",
     "collapsed": false,
     "input": [
      "import numpy\n",
      "import matplotlib\n",
      "import matplotlib.pyplot as plt\n",
      "import random\n",
      "import numpy as np\n",
      "from scipy.cluster.vq import *\n",
      "from scipy.spatial import distance\n",
      "import pylab\n",
      "pylab.close()\n"
     ],
     "language": "python",
     "metadata": {},
     "outputs": [],
     "prompt_number": 2
    },
    {
     "cell_type": "code",
     "collapsed": false,
     "input": [
      "from scipy.spatial import distance\n",
      "\n",
      "class Data(object):\n",
      "    # N points, k cluster, p dimensions\n",
      "    def __init__(self, N, k, p):\n",
      "        self.N = N\n",
      "        self.k = k\n",
      "        self.p = p\n",
      "        self.true_center = []\n",
      "\n",
      "    def init_board_gauss(self):\n",
      "        n = float(self.N)/self.k\n",
      "        X = []\n",
      "        for i in range(self.k):\n",
      "            c = ()\n",
      "            # construct a random center point\n",
      "            for j in range(self.p):\n",
      "                c = c + (random.uniform(-1,1),)\n",
      "            self.true_center.append(c)\n",
      "            #s = random.uniform(0.05,0.5)\n",
      "            s = 0.1\n",
      "            x = []\n",
      "            while len(x) < n:\n",
      "                # need to change dimension\n",
      "                lst = []\n",
      "                for i in c:\n",
      "                    lst.append(np.random.normal(i,s))\n",
      "                point = np.array(lst)\n",
      "                good = True\n",
      "                for i in point:\n",
      "                    if abs(i) >= 1:\n",
      "                        good = False\n",
      "                if good:\n",
      "                    x.append(point)\n",
      "            X.extend(x)\n",
      "        X = np.array(X)[:self.N]\n",
      "        return X\n",
      "\n",
      "    # Taking in true center list, and the result center list\n",
      "    def error_calculate(self,res):\n",
      "        error = 0.0\n",
      "        for i in range(self.k):\n",
      "            min_dis = 10000000\n",
      "            for j in range(self.k):\n",
      "                # calculate the distance btw true center and kmean center\n",
      "                dst = distance.euclidean(self.true_center[i],res[j])\n",
      "                # find the minimum dst btw the true center and kmean center\n",
      "                if dst < min_dis:\n",
      "                    min_dis = dst\n",
      "            error += min_dis\n",
      "        # print \"the error rate is: \", error\n",
      "        return error\n",
      "\n",
      "    def set_true_center(self, means):\n",
      "        self.true_center = means\n",
      "        \n",
      "        print \"true center is \", self.true_center\n",
      "\n",
      "\n",
      "    # mean is a p dimensional vector, covarience is a p*p matrix\n",
      "    # number_of_sample is n samples\n",
      "    # return value: n*p matrix, generate n samples from N(mean,covarience)\n",
      "    def generate_mult_normal_data(self, mean, covariance, num_of_samples):\n",
      "        return np.random.multivariate_normal(mean,covariance, num_of_samples)\n",
      "\n",
      "    # prob is list of probability that sums to 1\n",
      "    # means is a p dimensional vector,covarience is a p*p matrix\n",
      "    # number_of_samples is n samples\n",
      "    # return value: generate n samples from the mixture of Gaussian\n",
      "    def generate_mult_normal_based_prob(self, prob, means, covariance, num_of_samples):\n",
      "        data_list = []\n",
      "        for i in range(num_of_samples):\n",
      "            # flip a coin to see which cluster the data point comes from\n",
      "            random_num = random.random()\n",
      "            sum = 0.0\n",
      "            index = -1\n",
      "            for p in prob:\n",
      "                if random_num < sum:\n",
      "                    break\n",
      "                sum += p\n",
      "                index = index + 1\n",
      "            # call the generate_mult_normal_data rountine\n",
      "            data_list.append(self.generate_mult_normal_data(means[index], covariance,1)[0])\n",
      "        return np.array(data_list)[:num_of_samples]\n"
     ],
     "language": "python",
     "metadata": {},
     "outputs": [],
     "prompt_number": 3
    },
    {
     "cell_type": "code",
     "collapsed": false,
     "input": [
      "def sequential_kmean(data, k):\n",
      "    kmean_center = []\n",
      "    idx = []\n",
      "    for i in range(0, len(data)):\n",
      "        idx.append(0)\n",
      "    # set count n1 ... nk to 1\n",
      "    counts = []\n",
      "    for i in range(k):\n",
      "        counts.append(1)\n",
      "\n",
      "    # set the first seen k points to the kmean center\n",
      "    for i in range(k):\n",
      "        kmean_center.append(data[i])\n",
      "        idx[i] = i   # remember which cluster\n",
      "    kmean_center_np = np.array(kmean_center)\n",
      "    index = k\n",
      "    # look at the next point, and do one pass through the dataset\n",
      "    while index < len(data):\n",
      "        # print index\n",
      "        current_point = data[index]\n",
      "        min_dist = 100000.0\n",
      "        replace_position = 0\n",
      "\n",
      "        # find the distance to the nearest kmean center\n",
      "        for i in range(k):\n",
      "            dist = distance.euclidean(kmean_center_np[i], current_point)\n",
      "            if dist < min_dist:\n",
      "                min_dist = dist\n",
      "                replace_position = i\n",
      "        # index is the current point\n",
      "        idx[index] = replace_position\n",
      "        index = index + 1\n",
      "        # update the kmean center accordingly\n",
      "        kmean_center_np[replace_position] = ((counts[replace_position] * kmean_center_np[replace_position]) + current_point) / (counts[replace_position] + 1.0)\n",
      "        # update the countes -> increase the weights\n",
      "        counts[replace_position] = counts[replace_position] + 1\n",
      "    return np.array(kmean_center), np.array(idx)\n"
     ],
     "language": "python",
     "metadata": {},
     "outputs": [],
     "prompt_number": 4
    },
    {
     "cell_type": "code",
     "collapsed": false,
     "input": [
      "# dimension\n",
      "p = 2\n",
      "\n",
      "# sqrt of variance\n",
      "sigma = 0.99\n",
      "\n",
      "# k is number of clusters\n",
      "k = 3\n",
      "\n",
      "# n is number of points to be generated\n",
      "n = 1000\n",
      "\n",
      "# init a covariance matrix as identity matrix\n",
      "identity_matrix = np.identity(p)\n",
      "\n",
      "# covariance matrix\n",
      "covariance = sigma * sigma * identity_matrix\n",
      "d = Data(1000, k, p)\n",
      "# choose means from\n",
      "\n",
      "# means are from a normal distribution with center is all 0s and varience N(0,sigma squre identity matrix)\n",
      "mean = []\n",
      "for i in range(p):\n",
      "    mean.append(0)\n",
      "# choose means, k is the number of centers/cluster\n",
      "means = d.generate_mult_normal_data(mean, covariance, k)\n",
      "\n",
      "d.set_true_center(means)\n",
      "\n",
      "# choose pis, ASA probabolity\n",
      "PIs = []\n",
      "for i in range(k):\n",
      "\t# every cluster has the same probability\n",
      "    PIs.append(1.0/k)\n",
      "\n",
      "# generate n points from the mixture model\n",
      "data_set = d.generate_mult_normal_based_prob(PIs, means, covariance, n)"
     ],
     "language": "python",
     "metadata": {},
     "outputs": [
      {
       "output_type": "stream",
       "stream": "stdout",
       "text": [
        "true center is  [[-1.14674775  0.78883996]\n",
        " [-2.12915437 -0.28897131]\n",
        " [ 1.55060967 -1.49420996]]\n"
       ]
      }
     ],
     "prompt_number": 5
    },
    {
     "cell_type": "code",
     "collapsed": false,
     "input": [
      "# expriment starts\n",
      "res1, idx1 = kmeans2(data_set, k)\n",
      "score = d.error_calculate(res1) / (sigma * sigma * p)\n",
      "print \"kmean score is \", score\n",
      "\n",
      "# first graph - kmean\n",
      "colors = ([([1,0,0],[0,1,0],[0,0,1])[i] for i in idx1])\n",
      "pylab.scatter(data_set[:,0],data_set[:,1], c=colors)\n",
      "pylab.scatter(d.true_center[:,0],d.true_center[:,1], marker='H', s = 500, linewidths=2)\n",
      "# o means kmean center\n",
      "pylab.scatter(res1[:,0],res1[:,1], marker='o', s = 500, linewidths=2, c='none')\n",
      "pylab.show()\n",
      "pylab.clf()"
     ],
     "language": "python",
     "metadata": {},
     "outputs": [
      {
       "output_type": "stream",
       "stream": "stdout",
       "text": [
        "kmean score is  0.36129768256\n"
       ]
      },
      {
       "metadata": {},
       "output_type": "display_data",
       "png": "[encoded data removed]",
       "text": [
        "<matplotlib.figure.Figure at 0x106912ad0>"
       ]
      },
      {
       "metadata": {},
       "output_type": "display_data",
       "text": [
        "<matplotlib.figure.Figure at 0x106955f90>"
       ]
      }
     ],
     "prompt_number": 6
    },
    {
     "cell_type": "code",
     "collapsed": false,
     "input": [
      "# run sequential kmean\n",
      "res2, idx2 = sequential_kmean(data_set, k)\n",
      "score = d.error_calculate(res2) / (sigma * sigma * p)\n",
      "print \"sequential kmean score is \", score\n",
      "\n",
      "# second graph - sequential kmean\n",
      "colors = ([([1,0,0],[0,1,0],[0,0,1])[i] for i in idx2])\n",
      "pylab.scatter(data_set[:,0],data_set[:,1], c=colors)\n",
      "pylab.scatter(d.true_center[:,0],d.true_center[:,1], marker='H', s = 500, linewidths=2)\n",
      "# x means sequential centers\n",
      "pylab.scatter(res2[:,0],res2[:,1], marker='x', s = 500, linewidths=2)\n",
      "pylab.show()\n",
      "pylab.clf()"
     ],
     "language": "python",
     "metadata": {},
     "outputs": [
      {
       "output_type": "stream",
       "stream": "stdout",
       "text": [
        "sequential kmean score is  2.24811488172\n"
       ]
      },
      {
       "metadata": {},
       "output_type": "display_data",
       "png": "[encoded data removed]",
       "text": [
        "<matplotlib.figure.Figure at 0x106912d90>"
       ]
      },
      {
       "metadata": {},
       "output_type": "display_data",
       "text": [
        "<matplotlib.figure.Figure at 0x106c70810>"
       ]
      }
     ],
     "prompt_number": 7
    },
    {
     "cell_type": "code",
     "collapsed": false,
     "input": [
      "# experiment for getting scores histogram for running kmeans 100 times\n",
      "num_of_iterations = 20\n",
      "score_list = []\n",
      "for i in range(num_of_iterations):\n",
      "    res1, idx1 = kmeans2(data_set, k)\n",
      "    score_list.append(d.error_calculate(res1) / (sigma * sigma * p))\n",
      "    \n",
      "# add a 'best fit' line\n",
      "plt.xlabel('Iterations')\n",
      "plt.ylabel('Scores')\n",
      "plt.title(r'Histogram of Kmean scores')\n",
      "plt.bar(range(num_of_iterations), score_list)\n",
      "\n",
      "# Tweak spacing to prevent clipping of ylabel\n",
      "plt.subplots_adjust(left=0.15)\n",
      "plt.show()\n",
      "pylab.clf()"
     ],
     "language": "python",
     "metadata": {},
     "outputs": [
      {
       "metadata": {},
       "output_type": "display_data",
       "png": "[encoded data removed]",
       "text": [
        "<matplotlib.figure.Figure at 0x106c70cd0>"
       ]
      },
      {
       "metadata": {},
       "output_type": "display_data",
       "text": [
        "<matplotlib.figure.Figure at 0x106b122d0>"
       ]
      }
     ],
     "prompt_number": 8
    },
    {
     "cell_type": "code",
     "collapsed": false,
     "input": [
      "# experiment for getting scores histogram for running sequential kmeans 100 times\n",
      "score_list = []\n",
      "res1, idx1 = sequential_kmean(np.random.permutation(data_set) , k)\n",
      "print \"sequential kmean without permutation scores: \", d.error_calculate(res1) / (sigma * sigma * p)\n",
      "for i in range(num_of_iterations):\n",
      "    # with permutation\n",
      "    res1, idx1 = sequential_kmean(np.random.permutation(data_set) , k)\n",
      "    score_list.append(d.error_calculate(res1) / (sigma * sigma * p))\n",
      "    \n",
      "# add a 'best fit' line\n",
      "plt.xlabel('Iterations')\n",
      "plt.ylabel('Scores')\n",
      "plt.title(r'Histogram of Squential Kmean scores')\n",
      "plt.bar(range(num_of_iterations), score_list)\n",
      "\n",
      "# Tweak spacing to prevent clipping of ylabel\n",
      "plt.subplots_adjust(left=0.15)\n",
      "plt.show()\n",
      "pylab.clf()"
     ],
     "language": "python",
     "metadata": {},
     "outputs": [
      {
       "output_type": "stream",
       "stream": "stdout",
       "text": [
        "sequential kmean without permutation scores:  2.87724300409\n"
       ]
      },
      {
       "metadata": {},
       "output_type": "display_data",
       "png": "[encoded data removed]",
       "text": [
        "<matplotlib.figure.Figure at 0x106ec7090>"
       ]
      },
      {
       "metadata": {},
       "output_type": "display_data",
       "text": [
        "<matplotlib.figure.Figure at 0x107094fd0>"
       ]
      }
     ],
     "prompt_number": 9
    },
    {
     "cell_type": "code",
     "collapsed": false,
     "input": [
      "# give easy points(less sigma from same gaussian distribution) \n",
      "# see if sequential kmean does, do the histogram compared to without teaching one\n",
      "small_sigma = 0.01\n",
      "score_list = []\n",
      "sigma_list = []\n",
      "while small_sigma < 1.0:\n",
      "    sigma_list.append(small_sigma)\n",
      "    #give 20 easy points\n",
      "    teaching_data_set = d.generate_mult_normal_based_prob(PIs, means, \n",
      "                                                      small_sigma * small_sigma * identity_matrix, 20)\n",
      "    data_set = np.concatenate((teaching_data_set, data_set))\n",
      "\n",
      "    res1, idx1 = sequential_kmean(np.random.permutation(data_set) , k)\n",
      "    score_list.append(d.error_calculate(res1) / (sigma * sigma * p))\n",
      "    small_sigma += 0.01\n",
      "    print small_sigma\n",
      "print score_list\n",
      "plt.xlabel('Iterations')\n",
      "plt.ylabel('Scores')\n",
      "plt.title(r'Histogram of Squential Kmean scores')\n",
      "plt.bar(range(100), score_list)\n",
      "plt.subplots_adjust(left=0.15)\n",
      "plt.show()\n",
      "plt.clf()\n",
      "\n",
      "'''\n",
      "score_list = []\n",
      "small_sigma = 0.01\n",
      "for i in range(num_of_iterations):\n",
      "    res1, idx1 = sequential_kmean(np.random.permutation(data_set) , k)\n",
      "    score_list.append(d.error_calculate(res1) / (sigma * sigma * p))\n",
      "    \n",
      "# add a 'best fit' line\n",
      "plt.xlabel('Iterations')\n",
      "plt.ylabel('Scores')\n",
      "plt.title(r'Histogram of Squential Kmean scores')\n",
      "plt.bar(range(num_of_iterations), score_list)\n",
      "\n",
      "# Tweak spacing to prevent clipping of ylabel\n",
      "plt.subplots_adjust(left=0.15)\n",
      "plt.show()\n",
      "plt.clf()\n",
      "'''"
     ],
     "language": "python",
     "metadata": {},
     "outputs": [
      {
       "output_type": "stream",
       "stream": "stdout",
       "text": [
        "0.02\n",
        "0.03"
       ]
      },
      {
       "output_type": "stream",
       "stream": "stdout",
       "text": [
        "\n",
        "0.04"
       ]
      },
      {
       "output_type": "stream",
       "stream": "stdout",
       "text": [
        "\n",
        "0.05"
       ]
      },
      {
       "output_type": "stream",
       "stream": "stdout",
       "text": [
        "\n",
        "0.06"
       ]
      },
      {
       "output_type": "stream",
       "stream": "stdout",
       "text": [
        "\n",
        "0.07"
       ]
      },
      {
       "output_type": "stream",
       "stream": "stdout",
       "text": [
        "\n",
        "0.08"
       ]
      },
      {
       "output_type": "stream",
       "stream": "stdout",
       "text": [
        "\n",
        "0.09"
       ]
      },
      {
       "output_type": "stream",
       "stream": "stdout",
       "text": [
        "\n",
        "0.1"
       ]
      },
      {
       "output_type": "stream",
       "stream": "stdout",
       "text": [
        "\n",
        "0.11"
       ]
      },
      {
       "output_type": "stream",
       "stream": "stdout",
       "text": [
        "\n",
        "0.12"
       ]
      },
      {
       "output_type": "stream",
       "stream": "stdout",
       "text": [
        "\n",
        "0.13"
       ]
      },
      {
       "output_type": "stream",
       "stream": "stdout",
       "text": [
        "\n",
        "0.14"
       ]
      },
      {
       "output_type": "stream",
       "stream": "stdout",
       "text": [
        "\n",
        "0.15"
       ]
      },
      {
       "output_type": "stream",
       "stream": "stdout",
       "text": [
        "\n",
        "0.16"
       ]
      },
      {
       "output_type": "stream",
       "stream": "stdout",
       "text": [
        "\n",
        "0.17"
       ]
      },
      {
       "output_type": "stream",
       "stream": "stdout",
       "text": [
        "\n",
        "0.18"
       ]
      },
      {
       "output_type": "stream",
       "stream": "stdout",
       "text": [
        "\n",
        "0.19"
       ]
      },
      {
       "output_type": "stream",
       "stream": "stdout",
       "text": [
        "\n",
        "0.2"
       ]
      },
      {
       "output_type": "stream",
       "stream": "stdout",
       "text": [
        "\n",
        "0.21"
       ]
      },
      {
       "output_type": "stream",
       "stream": "stdout",
       "text": [
        "\n",
        "0.22"
       ]
      },
      {
       "output_type": "stream",
       "stream": "stdout",
       "text": [
        "\n",
        "0.23"
       ]
      },
      {
       "output_type": "stream",
       "stream": "stdout",
       "text": [
        "\n",
        "0.24"
       ]
      },
      {
       "output_type": "stream",
       "stream": "stdout",
       "text": [
        "\n",
        "0.25"
       ]
      },
      {
       "output_type": "stream",
       "stream": "stdout",
       "text": [
        "\n",
        "0.26"
       ]
      },
      {
       "output_type": "stream",
       "stream": "stdout",
       "text": [
        "\n",
        "0.27"
       ]
      },
      {
       "output_type": "stream",
       "stream": "stdout",
       "text": [
        "\n",
        "0.28"
       ]
      },
      {
       "output_type": "stream",
       "stream": "stdout",
       "text": [
        "\n",
        "0.29"
       ]
      },
      {
       "output_type": "stream",
       "stream": "stdout",
       "text": [
        "\n",
        "0.3"
       ]
      },
      {
       "output_type": "stream",
       "stream": "stdout",
       "text": [
        "\n",
        "0.31"
       ]
      },
      {
       "output_type": "stream",
       "stream": "stdout",
       "text": [
        "\n",
        "0.32"
       ]
      },
      {
       "output_type": "stream",
       "stream": "stdout",
       "text": [
        "\n",
        "0.33"
       ]
      },
      {
       "output_type": "stream",
       "stream": "stdout",
       "text": [
        "\n",
        "0.34"
       ]
      },
      {
       "output_type": "stream",
       "stream": "stdout",
       "text": [
        "\n",
        "0.35"
       ]
      },
      {
       "output_type": "stream",
       "stream": "stdout",
       "text": [
        "\n",
        "0.36"
       ]
      },
      {
       "output_type": "stream",
       "stream": "stdout",
       "text": [
        "\n",
        "0.37"
       ]
      },
      {
       "output_type": "stream",
       "stream": "stdout",
       "text": [
        "\n",
        "0.38"
       ]
      },
      {
       "output_type": "stream",
       "stream": "stdout",
       "text": [
        "\n",
        "0.39"
       ]
      },
      {
       "output_type": "stream",
       "stream": "stdout",
       "text": [
        "\n",
        "0.4"
       ]
      },
      {
       "output_type": "stream",
       "stream": "stdout",
       "text": [
        "\n",
        "0.41"
       ]
      },
      {
       "output_type": "stream",
       "stream": "stdout",
       "text": [
        "\n",
        "0.42"
       ]
      },
      {
       "output_type": "stream",
       "stream": "stdout",
       "text": [
        "\n",
        "0.43"
       ]
      },
      {
       "output_type": "stream",
       "stream": "stdout",
       "text": [
        "\n",
        "0.44"
       ]
      },
      {
       "output_type": "stream",
       "stream": "stdout",
       "text": [
        "\n",
        "0.45"
       ]
      },
      {
       "output_type": "stream",
       "stream": "stdout",
       "text": [
        "\n",
        "0.46"
       ]
      },
      {
       "output_type": "stream",
       "stream": "stdout",
       "text": [
        "\n",
        "0.47"
       ]
      },
      {
       "output_type": "stream",
       "stream": "stdout",
       "text": [
        "\n",
        "0.48"
       ]
      },
      {
       "output_type": "stream",
       "stream": "stdout",
       "text": [
        "\n",
        "0.49"
       ]
      },
      {
       "output_type": "stream",
       "stream": "stdout",
       "text": [
        "\n",
        "0.5"
       ]
      },
      {
       "output_type": "stream",
       "stream": "stdout",
       "text": [
        "\n",
        "0.51"
       ]
      },
      {
       "output_type": "stream",
       "stream": "stdout",
       "text": [
        "\n",
        "0.52"
       ]
      },
      {
       "output_type": "stream",
       "stream": "stdout",
       "text": [
        "\n",
        "0.53"
       ]
      },
      {
       "output_type": "stream",
       "stream": "stdout",
       "text": [
        "\n",
        "0.54"
       ]
      },
      {
       "output_type": "stream",
       "stream": "stdout",
       "text": [
        "\n",
        "0.55"
       ]
      },
      {
       "output_type": "stream",
       "stream": "stdout",
       "text": [
        "\n",
        "0.56"
       ]
      },
      {
       "output_type": "stream",
       "stream": "stdout",
       "text": [
        "\n",
        "0.57"
       ]
      },
      {
       "output_type": "stream",
       "stream": "stdout",
       "text": [
        "\n",
        "0.58"
       ]
      },
      {
       "output_type": "stream",
       "stream": "stdout",
       "text": [
        "\n",
        "0.59"
       ]
      },
      {
       "output_type": "stream",
       "stream": "stdout",
       "text": [
        "\n",
        "0.6"
       ]
      },
      {
       "output_type": "stream",
       "stream": "stdout",
       "text": [
        "\n",
        "0.61"
       ]
      },
      {
       "output_type": "stream",
       "stream": "stdout",
       "text": [
        "\n",
        "0.62"
       ]
      },
      {
       "output_type": "stream",
       "stream": "stdout",
       "text": [
        "\n",
        "0.63"
       ]
      },
      {
       "output_type": "stream",
       "stream": "stdout",
       "text": [
        "\n",
        "0.64"
       ]
      },
      {
       "output_type": "stream",
       "stream": "stdout",
       "text": [
        "\n",
        "0.65"
       ]
      },
      {
       "output_type": "stream",
       "stream": "stdout",
       "text": [
        "\n",
        "0.66"
       ]
      },
      {
       "output_type": "stream",
       "stream": "stdout",
       "text": [
        "\n",
        "0.67"
       ]
      },
      {
       "output_type": "stream",
       "stream": "stdout",
       "text": [
        "\n",
        "0.68"
       ]
      },
      {
       "output_type": "stream",
       "stream": "stdout",
       "text": [
        "\n",
        "0.69"
       ]
      },
      {
       "output_type": "stream",
       "stream": "stdout",
       "text": [
        "\n",
        "0.7"
       ]
      },
      {
       "output_type": "stream",
       "stream": "stdout",
       "text": [
        "\n",
        "0.71"
       ]
      },
      {
       "output_type": "stream",
       "stream": "stdout",
       "text": [
        "\n",
        "0.72"
       ]
      },
      {
       "output_type": "stream",
       "stream": "stdout",
       "text": [
        "\n",
        "0.73"
       ]
      },
      {
       "output_type": "stream",
       "stream": "stdout",
       "text": [
        "\n",
        "0.74"
       ]
      },
      {
       "output_type": "stream",
       "stream": "stdout",
       "text": [
        "\n",
        "0.75"
       ]
      },
      {
       "output_type": "stream",
       "stream": "stdout",
       "text": [
        "\n",
        "0.76"
       ]
      },
      {
       "output_type": "stream",
       "stream": "stdout",
       "text": [
        "\n",
        "0.77"
       ]
      },
      {
       "output_type": "stream",
       "stream": "stdout",
       "text": [
        "\n",
        "0.78"
       ]
      },
      {
       "output_type": "stream",
       "stream": "stdout",
       "text": [
        "\n",
        "0.79"
       ]
      },
      {
       "output_type": "stream",
       "stream": "stdout",
       "text": [
        "\n",
        "0.8"
       ]
      },
      {
       "output_type": "stream",
       "stream": "stdout",
       "text": [
        "\n",
        "0.81"
       ]
      },
      {
       "output_type": "stream",
       "stream": "stdout",
       "text": [
        "\n",
        "0.82"
       ]
      },
      {
       "output_type": "stream",
       "stream": "stdout",
       "text": [
        "\n",
        "0.83"
       ]
      },
      {
       "output_type": "stream",
       "stream": "stdout",
       "text": [
        "\n",
        "0.84"
       ]
      },
      {
       "output_type": "stream",
       "stream": "stdout",
       "text": [
        "\n",
        "0.85"
       ]
      },
      {
       "output_type": "stream",
       "stream": "stdout",
       "text": [
        "\n",
        "0.86"
       ]
      },
      {
       "output_type": "stream",
       "stream": "stdout",
       "text": [
        "\n",
        "0.87"
       ]
      },
      {
       "output_type": "stream",
       "stream": "stdout",
       "text": [
        "\n",
        "0.88"
       ]
      },
      {
       "output_type": "stream",
       "stream": "stdout",
       "text": [
        "\n",
        "0.89"
       ]
      },
      {
       "output_type": "stream",
       "stream": "stdout",
       "text": [
        "\n",
        "0.9"
       ]
      },
      {
       "output_type": "stream",
       "stream": "stdout",
       "text": [
        "\n",
        "0.91"
       ]
      },
      {
       "output_type": "stream",
       "stream": "stdout",
       "text": [
        "\n",
        "0.92"
       ]
      },
      {
       "output_type": "stream",
       "stream": "stdout",
       "text": [
        "\n",
        "0.93"
       ]
      },
      {
       "output_type": "stream",
       "stream": "stdout",
       "text": [
        "\n",
        "0.94"
       ]
      },
      {
       "output_type": "stream",
       "stream": "stdout",
       "text": [
        "\n",
        "0.95"
       ]
      },
      {
       "output_type": "stream",
       "stream": "stdout",
       "text": [
        "\n",
        "0.96"
       ]
      },
      {
       "output_type": "stream",
       "stream": "stdout",
       "text": [
        "\n",
        "0.97"
       ]
      },
      {
       "output_type": "stream",
       "stream": "stdout",
       "text": [
        "\n",
        "0.98"
       ]
      },
      {
       "output_type": "stream",
       "stream": "stdout",
       "text": [
        "\n",
        "0.99"
       ]
      },
      {
       "output_type": "stream",
       "stream": "stdout",
       "text": [
        "\n",
        "1.0"
       ]
      },
      {
       "output_type": "stream",
       "stream": "stdout",
       "text": [
        "\n",
        "[1.0169056995637868, 1.162122225495659, 1.2490008604730964, 1.1004971128184933, 0.8588423731019098, 1.597362269337438, 1.1012408442163388, 2.862954078187639, 2.2550563521099245, 0.9846672784970484, 0.8637961631848442, 2.266548498297059, 2.4860570590395903, 1.0171679293729519, 1.9632227911756153, 2.11406567938018, 3.1467405846389025, 2.049953319596506, 1.2195109364198937, 2.912550158257304, 1.5368255470917358, 0.8871923415792378, 1.8930346402002602, 0.9929371865427788, 1.9777277582325654, 2.0960189409823546, 0.7932575859850747, 2.4886325384230457, 1.4686097926547308, 3.800604473702745, 2.824714847581648, 1.5296533433595187, 0.7520347522598646, 2.788812242442469, 0.9409330602293894, 2.1075531482785057, 0.9385880647618604, 0.8753164495387192, 1.6783191887525475, 2.0660884217277826, 1.5606081352891086, 1.2554186978944146, 0.8887766312203438, 1.064694650679836, 0.5902507607659359, 3.723003520142306, 2.0478064331510115, 1.3832398554328613, 2.2807040120048114, 2.3997116514895276, 2.1795162547522984, 0.731506191126935, 1.1819713603687176, 2.423916162766644, 1.0067722413670257, 2.150201416405136, 1.8386854089293532, 1.1199670267564328, 1.058912043225447, 1.4921211632032527, 0.7702269514503869, 0.9277599310039842, 1.034953750891432, 1.542851172583637, 1.4262506919050635, 1.0779887545327491, 1.3116500902391195, 1.2506991501213758, 0.7926539562622957, 2.554421740812728, 1.0211840775723486, 2.2592094996065013, 1.6236764783222584, 2.0639684469348185, 1.17169387956965, 0.41166391813496056, 1.2330425539751735, 0.8497634730180135, 1.0299084350301515, 3.5214822442002567, 2.0690767284693137, 1.672958484529619, 0.9269116991944081, 0.7456248820739807, 1.7362510323514575, 1.0625377288787818, 0.3957117975163385, 1.2874186903000018, 0.7369311704283399, 1.1489756186103224, 2.1955804139143233, 2.0253974986538297, 1.2743923742084573, 2.0180338810327636, 1.0819176103305812, 0.7808484168140396, 1.1932965573158505, 1.0069470109435426, 1.6935411780330472]\n"
       ]
      },
      {
       "ename": "AssertionError",
       "evalue": "incompatible sizes: argument 'height' must be length 100 or scalar",
       "output_type": "pyerr",
       "traceback": [
        "\u001b[0;31m---------------------------------------------------------------------------\u001b[0m\n\u001b[0;31mAssertionError\u001b[0m                            Traceback (most recent call last)",
        "\u001b[0;32m<ipython-input-14-4de8d9c69f93>\u001b[0m in \u001b[0;36m<module>\u001b[0;34m()\u001b[0m\n\u001b[1;32m     19\u001b[0m \u001b[0mplt\u001b[0m\u001b[0;34m.\u001b[0m\u001b[0mylabel\u001b[0m\u001b[0;34m(\u001b[0m\u001b[0;34m'Scores'\u001b[0m\u001b[0;34m)\u001b[0m\u001b[0;34m\u001b[0m\u001b[0m\n\u001b[1;32m     20\u001b[0m \u001b[0mplt\u001b[0m\u001b[0;34m.\u001b[0m\u001b[0mtitle\u001b[0m\u001b[0;34m(\u001b[0m\u001b[0;34mr'Histogram of Squential Kmean scores'\u001b[0m\u001b[0;34m)\u001b[0m\u001b[0;34m\u001b[0m\u001b[0m\n\u001b[0;32m---> 21\u001b[0;31m \u001b[0mplt\u001b[0m\u001b[0;34m.\u001b[0m\u001b[0mbar\u001b[0m\u001b[0;34m(\u001b[0m\u001b[0mrange\u001b[0m\u001b[0;34m(\u001b[0m\u001b[0;36m100\u001b[0m\u001b[0;34m)\u001b[0m\u001b[0;34m,\u001b[0m \u001b[0mscore_list\u001b[0m\u001b[0;34m)\u001b[0m\u001b[0;34m\u001b[0m\u001b[0m\n\u001b[0m\u001b[1;32m     22\u001b[0m \u001b[0mplt\u001b[0m\u001b[0;34m.\u001b[0m\u001b[0msubplots_adjust\u001b[0m\u001b[0;34m(\u001b[0m\u001b[0mleft\u001b[0m\u001b[0;34m=\u001b[0m\u001b[0;36m0.15\u001b[0m\u001b[0;34m)\u001b[0m\u001b[0;34m\u001b[0m\u001b[0m\n\u001b[1;32m     23\u001b[0m \u001b[0mplt\u001b[0m\u001b[0;34m.\u001b[0m\u001b[0mshow\u001b[0m\u001b[0;34m(\u001b[0m\u001b[0;34m)\u001b[0m\u001b[0;34m\u001b[0m\u001b[0m\n",
        "\u001b[0;32m/Users/ruiqingqiu/anaconda/lib/python2.7/site-packages/matplotlib/pyplot.pyc\u001b[0m in \u001b[0;36mbar\u001b[0;34m(left, height, width, bottom, hold, **kwargs)\u001b[0m\n\u001b[1;32m   2566\u001b[0m         \u001b[0max\u001b[0m\u001b[0;34m.\u001b[0m\u001b[0mhold\u001b[0m\u001b[0;34m(\u001b[0m\u001b[0mhold\u001b[0m\u001b[0;34m)\u001b[0m\u001b[0;34m\u001b[0m\u001b[0m\n\u001b[1;32m   2567\u001b[0m     \u001b[0;32mtry\u001b[0m\u001b[0;34m:\u001b[0m\u001b[0;34m\u001b[0m\u001b[0m\n\u001b[0;32m-> 2568\u001b[0;31m         \u001b[0mret\u001b[0m \u001b[0;34m=\u001b[0m \u001b[0max\u001b[0m\u001b[0;34m.\u001b[0m\u001b[0mbar\u001b[0m\u001b[0;34m(\u001b[0m\u001b[0mleft\u001b[0m\u001b[0;34m,\u001b[0m \u001b[0mheight\u001b[0m\u001b[0;34m,\u001b[0m \u001b[0mwidth\u001b[0m\u001b[0;34m=\u001b[0m\u001b[0mwidth\u001b[0m\u001b[0;34m,\u001b[0m \u001b[0mbottom\u001b[0m\u001b[0;34m=\u001b[0m\u001b[0mbottom\u001b[0m\u001b[0;34m,\u001b[0m \u001b[0;34m**\u001b[0m\u001b[0mkwargs\u001b[0m\u001b[0;34m)\u001b[0m\u001b[0;34m\u001b[0m\u001b[0m\n\u001b[0m\u001b[1;32m   2569\u001b[0m         \u001b[0mdraw_if_interactive\u001b[0m\u001b[0;34m(\u001b[0m\u001b[0;34m)\u001b[0m\u001b[0;34m\u001b[0m\u001b[0m\n\u001b[1;32m   2570\u001b[0m     \u001b[0;32mfinally\u001b[0m\u001b[0;34m:\u001b[0m\u001b[0;34m\u001b[0m\u001b[0m\n",
        "\u001b[0;32m/Users/ruiqingqiu/anaconda/lib/python2.7/site-packages/matplotlib/axes/_axes.pyc\u001b[0m in \u001b[0;36mbar\u001b[0;34m(self, left, height, width, bottom, **kwargs)\u001b[0m\n\u001b[1;32m   1989\u001b[0m         assert len(height) == nbars, (\"incompatible sizes: argument 'height' \"\n\u001b[1;32m   1990\u001b[0m                                       \u001b[0;34m\"must be length %d or scalar\"\u001b[0m \u001b[0;34m%\u001b[0m\u001b[0;34m\u001b[0m\u001b[0m\n\u001b[0;32m-> 1991\u001b[0;31m                                       nbars)\n\u001b[0m\u001b[1;32m   1992\u001b[0m         assert len(width) == nbars, (\"incompatible sizes: argument 'width' \"\n\u001b[1;32m   1993\u001b[0m                                      \u001b[0;34m\"must be length %d or scalar\"\u001b[0m \u001b[0;34m%\u001b[0m\u001b[0;34m\u001b[0m\u001b[0m\n",
        "\u001b[0;31mAssertionError\u001b[0m: incompatible sizes: argument 'height' must be length 100 or scalar"
       ]
      },
      {
       "metadata": {},
       "output_type": "display_data",
       "png": "[encoded data removed]",
       "text": [
        "<matplotlib.figure.Figure at 0x106fd3e10>"
       ]
      }
     ],
     "prompt_number": 14
    },
    {
     "cell_type": "code",
     "collapsed": false,
     "input": [],
     "language": "python",
     "metadata": {},
     "outputs": []
    }
   ],
   "metadata": {}
  }
 ]
}