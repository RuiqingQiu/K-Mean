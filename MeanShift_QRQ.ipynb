{
 "cells": [
  {
   "cell_type": "code",
   "execution_count": 1,
   "metadata": {
    "collapsed": false
   },
   "outputs": [],
   "source": [
    "%matplotlib inline\n",
    "import numpy as np\n",
    "from sklearn.cluster import MeanShift, estimate_bandwidth\n",
    "from sklearn.datasets.samples_generator import make_blobs"
   ]
  },
  {
   "cell_type": "code",
   "execution_count": 2,
   "metadata": {
    "collapsed": true
   },
   "outputs": [],
   "source": [
    "from scipy.spatial import distance\n",
    "\n",
    "class Data(object):\n",
    "    # N points, k cluster, p dimensions\n",
    "    def __init__(self, N, k, p):\n",
    "        self.N = N\n",
    "        self.k = k\n",
    "        self.p = p\n",
    "        self.true_center = []\n",
    "        self.true_cluster_list = []\n",
    "        self.data_set = []\n",
    "        self.PIs = []\n",
    "        self.means = []\n",
    "        self.sigma = 0.0\n",
    "\n",
    "    def init_board_gauss(self):\n",
    "        n = float(self.N)/self.k\n",
    "        X = []\n",
    "        for i in range(self.k):\n",
    "            c = ()\n",
    "            # construct a random center point\n",
    "            for j in range(self.p):\n",
    "                c = c + (random.uniform(-1,1),)\n",
    "            self.true_center.append(c)\n",
    "            #s = random.uniform(0.05,0.5)\n",
    "            s = 0.05\n",
    "            x = []\n",
    "            while len(x) < n:\n",
    "                # need to change dimension\n",
    "                lst = []\n",
    "                for i in c:\n",
    "                    lst.append(np.random.normal(i,s))\n",
    "                point = np.array(lst)\n",
    "                good = True\n",
    "                for i in point:\n",
    "                    if abs(i) >= 1:\n",
    "                        good = False\n",
    "                if good:\n",
    "                    x.append(point)\n",
    "            X.extend(x)\n",
    "        X = np.array(X)[:self.N]\n",
    "        return X\n",
    "\n",
    "    def set_data(self, data):\n",
    "        self.data_set = data\n",
    "    # Taking in true center list, and the result center list\n",
    "    def error_calculate(self,res):\n",
    "        error = 0.0\n",
    "        for i in range(self.k):\n",
    "            min_dis = distance.euclidean(self.true_center[i],res[0])\n",
    "            for j in range(self.k):\n",
    "                # calculate the distance btw true center and kmean center\n",
    "                dst = distance.euclidean(self.true_center[i],res[j])\n",
    "                # find the minimum dst btw the true center and kmean center\n",
    "                if dst < min_dis:\n",
    "                    min_dis = dst\n",
    "            error += min_dis * min_dis\n",
    "        # print \"the error rate is: \", error\n",
    "        return math.sqrt(error / (self.sigma * self.sigma * self.p))\n",
    "\n",
    "    # calculate the true function enables more kmean center than true center\n",
    "    # this is for the true center \n",
    "    def true_cost_function(self):\n",
    "        cost = 0.0\n",
    "        # loop through the data set\n",
    "        for data in self.data_set:\n",
    "            # min_dist is the distance to the first true center\n",
    "            min_dis = distance.euclidean(data,self.true_center[0])\n",
    "            # loop through the true center\n",
    "            for i in range(self.k):\n",
    "                 # calculate the distance btw true center and kmean center\n",
    "                dst = distance.euclidean(data,self.true_center[i])\n",
    "                # find the minimum dst btw the true center and kmean center\n",
    "                if dst < min_dis:\n",
    "                    min_dis = dst\n",
    "            cost += min_dis * min_dis\n",
    "        return cost\n",
    "    \n",
    "    # this is for the cost function compared to the true center cost function\n",
    "    def cost_function(self,res):\n",
    "        cost = 0.0\n",
    "        # loop through the whole dataset\n",
    "        for data in self.data_set:\n",
    "            min_dis = distance.euclidean(data,res[0])\n",
    "            for i in range(len(res)):\n",
    "                 # calculate the distance btw true center and kmean center\n",
    "                dst = distance.euclidean(data,res[i])\n",
    "                # find the minimum dst btw the true center and kmean center\n",
    "                if dst < min_dis:\n",
    "                    min_dis = dst\n",
    "            cost += min_dis * min_dis\n",
    "        # the ratio of result center cost/ true center cost\n",
    "        return cost/self.true_cost_function()\n",
    "            \n",
    "\n",
    "    def set_true_center(self, means):\n",
    "        self.true_center = means\n",
    "\n",
    "    # mean is a p dimensional vector, covarience is a p*p matrix\n",
    "    # number_of_sample is n samples\n",
    "    # return value: n*p matrix, generate n samples from N(mean,covarience)\n",
    "    def generate_mult_normal_data(self, mean, covariance, num_of_samples):\n",
    "        return np.random.multivariate_normal(mean,covariance, num_of_samples)\n",
    "\n",
    "    # prob is list of probability that sums to 1\n",
    "    # means is a p dimensional vector,covarience is a p*p matrix\n",
    "    # number_of_samples is n samples\n",
    "    # return value: generate n samples from the mixture of Gaussian\n",
    "    def generate_mult_normal_based_prob(self, prob, means, covariance, num_of_samples):\n",
    "        data_list = []\n",
    "        # keep track which points belong to which cluster\n",
    "        true_cluster_list = []\n",
    "        for i in range(num_of_samples):\n",
    "            # flip a coin to see which cluster the data point comes from\n",
    "            random_num = random.random()\n",
    "            sum = 0.0\n",
    "            index = -1\n",
    "            for p in prob:\n",
    "                if random_num < sum:\n",
    "                    break\n",
    "                sum += p\n",
    "                index = index + 1\n",
    "            true_cluster_list.append(index)\n",
    "            # call the generate_mult_normal_data rountine\n",
    "            data_list.append(self.generate_mult_normal_data(means[index], covariance,1)[0])\n",
    "        self.true_cluster_list = true_cluster_list\n",
    "        return np.array(data_list)[:num_of_samples]\n",
    "        #return (np.array(data_list)[:num_of_samples], true_cluster_list)\n",
    "    def generate_data(self, dimension, p_sigma, number_of_cluster, number_of_points):\n",
    "        # dimension\n",
    "        self.p = dimension\n",
    "\n",
    "        # sqrt of variance\n",
    "        self.sigma = p_sigma\n",
    "\n",
    "        # k is number of clusters\n",
    "        self.k = number_of_cluster\n",
    "\n",
    "        # n is number of points to be generated\n",
    "        self.N = number_of_points\n",
    "\n",
    "        # init a covariance matrix as identity matrix\n",
    "        self.identity_matrix = np.identity(self.p)\n",
    "\n",
    "        # covariance matrix\n",
    "        covariance = self.sigma * self.sigma * self.identity_matrix\n",
    "        # choose means from\n",
    "\n",
    "\n",
    "        # means are from a normal distribution with center is all 0s and varience N(0,sigma squre identity matrix)\n",
    "        mean = []\n",
    "        for i in range(self.p):\n",
    "            mean.append(0)\n",
    "        # choose means, k is the number of centers/cluster\n",
    "        self.means = self.generate_mult_normal_data(mean, covariance, self.k)\n",
    "\n",
    "        self.set_true_center(self.means)\n",
    "\n",
    "        # choose pis, ASA probabolity\n",
    "        self.PIs = []\n",
    "        for i in range(self.k):\n",
    "            # every cluster has the same probability\n",
    "            self.PIs.append(1.0/self.k)\n",
    "\n",
    "        # generate n points from the mixture model\n",
    "        self.data_set = self.generate_mult_normal_based_prob(self.PIs, self.means, covariance, self.N)"
   ]
  },
  {
   "cell_type": "code",
   "execution_count": 3,
   "metadata": {
    "collapsed": false
   },
   "outputs": [
    {
     "data": {
      "image/png": "[encoded data removed]",
      "text/plain": [
       "<matplotlib.figure.Figure at 0x10803ff90>"
      ]
     },
     "metadata": {},
     "output_type": "display_data"
    },
    {
     "data": {
      "text/plain": [
       "<matplotlib.figure.Figure at 0x108048850>"
      ]
     },
     "metadata": {},
     "output_type": "display_data"
    }
   ],
   "source": [
    "import random\n",
    "import pylab\n",
    "#color list\n",
    "color_list = ([1,0,0],[0,1,0],[0,0,1],[1,1,0],[0,1,1],[1,1,0.7],[0.7,1,0],[1,0,0.7],[0.5,0.5,0], [0.5, 0, 0.5])\n",
    "\n",
    "# create a data object\n",
    "# number of points, k clusters, p dimensions\n",
    "d = Data(1000, 3, 3)\n",
    "# dimesion, sigma, cluster, # of points\n",
    "d.generate_data(3, 0.6, 3, 1000)\n",
    "\n",
    "# true center with true cluster\n",
    "colors = ([color_list[i] for i in d.true_cluster_list])\n",
    "pylab.scatter(d.data_set[:,0],d.data_set[:,1], c=colors)\n",
    "pylab.title(\"Data Distribution with True Center\")\n",
    "pylab.figtext(0.135,0.85,'H is true center')\n",
    "# hetagon means true center\n",
    "pylab.scatter(d.true_center[:,0],d.true_center[:,1], marker='H', s = 500, linewidths=2)\n",
    "pylab.show()\n",
    "pylab.clf()"
   ]
  },
  {
   "cell_type": "code",
   "execution_count": 4,
   "metadata": {
    "collapsed": false
   },
   "outputs": [
    {
     "name": "stdout",
     "output_type": "stream",
     "text": [
      "number of estimated clusters : 3\n"
     ]
    },
    {
     "data": {
      "image/png": "[encoded data removed]",
      "text/plain": [
       "<matplotlib.figure.Figure at 0x108068fd0>"
      ]
     },
     "metadata": {},
     "output_type": "display_data"
    }
   ],
   "source": [
    "###############################################################################\n",
    "# Generate sample data\n",
    "centers = [[1, 1], [-1, -1], [1, -1]]\n",
    "\n",
    "X, _ = make_blobs(n_samples=10000, centers=centers, cluster_std=0.6)\n",
    "\n",
    "###############################################################################\n",
    "# Compute clustering with MeanShift\n",
    "\n",
    "# The following bandwidth can be automatically detected using\n",
    "# estimate on Data d\n",
    "\n",
    "bandwidth = estimate_bandwidth(X, quantile=0.1, n_samples=10000)\n",
    "\n",
    "ms = MeanShift(bandwidth=bandwidth, bin_seeding=True)\n",
    "ms.fit(X)\n",
    "labels = ms.labels_\n",
    "cluster_centers = ms.cluster_centers_\n",
    "\n",
    "labels_unique = np.unique(labels)\n",
    "n_clusters_ = len(labels_unique)\n",
    "\n",
    "print(\"number of estimated clusters : %d\" % n_clusters_)\n",
    "\n",
    "###############################################################################\n",
    "# Plot result\n",
    "import matplotlib.pyplot as plt\n",
    "from itertools import cycle\n",
    "\n",
    "plt.figure(1)\n",
    "plt.clf()\n",
    "\n",
    "colors = cycle('bgrcmykbgrcmykbgrcmykbgrcmyk')\n",
    "for k, col in zip(range(n_clusters_), colors):\n",
    "    my_members = labels == k\n",
    "    cluster_center = cluster_centers[k]\n",
    "    plt.plot(X[my_members, 0], X[my_members, 1], col + '.')\n",
    "    plt.plot(cluster_center[0], cluster_center[1], 'o', markerfacecolor=col,\n",
    "             markeredgecolor='k', markersize=14)\n",
    "plt.title('Estimated number of clusters: %d' % n_clusters_)\n",
    "plt.show()"
   ]
  },
  {
   "cell_type": "code",
   "execution_count": 5,
   "metadata": {
    "collapsed": false
   },
   "outputs": [],
   "source": [
    "def K_Nearest_Neighbor(current, k, data):\n",
    "    return_list = []\n",
    "    index = 0\n",
    "    distanceList = []\n",
    "    for x in data:\n",
    "        distanceList.append((distance.euclidean(current, x), x))\n",
    "    distanceList.sort(key=lambda tup: tup[0])  # sorts in place\n",
    "    #get the k nearest label\n",
    "    for i in range (0, k):\n",
    "        #append the first k smallest element\n",
    "        return_list.append(distanceList[i][1])\n",
    "    return return_list\n",
    "# implement simple mean shift\n",
    "\n",
    "import numpy as np\n",
    "\n",
    "mu, sigma = 10, 5 # mean and standard deviation\n",
    "s = np.random.normal(mu, sigma, 1000)\n",
    "#print s\n",
    "s.sort()\n"
   ]
  },
  {
   "cell_type": "code",
   "execution_count": 6,
   "metadata": {
    "collapsed": false
   },
   "outputs": [],
   "source": [
    "from random import randrange\n",
    "\n",
    "# Assume data is already in np.array\n",
    "def mean_shift(data, window_size, k):\n",
    "    threshold = 0.00001\n",
    "\n",
    "    # indicate how many neighbors to look\n",
    "    number_of_neighbors = window_size\n",
    "    mean_list = []\n",
    "    # random choose k points\n",
    "    for i in range(0, k):\n",
    "        random_index = randrange(0,len(data))\n",
    "        mean_list.append(data[random_index])\n",
    "    # while less than threshold\n",
    "    iteration = 0\n",
    "    result = []\n",
    "    new_list = mean_list\n",
    "    prev_list = [np.array([0]*len(data[0]))] * len(mean_list)\n",
    "    current_list = [np.array([1000]*len(data[0]))] * len(mean_list)\n",
    "\n",
    "    converged = False\n",
    "    while not converged:\n",
    "        # left 10 points include itself\n",
    "        mean_list = new_list\n",
    "        new_list = []\n",
    "        if len(mean_list) == 0:\n",
    "            break\n",
    "        iteration = iteration + 1\n",
    "        converged = True\n",
    "        for j in range(0, len(mean_list)):\n",
    "            count = 0 # count how many points added to the mean\n",
    "            lst = K_Nearest_Neighbor(mean_list[j],number_of_neighbors, data)\n",
    "            mean = 0.0\n",
    "            for i in lst:\n",
    "                mean = mean + i\n",
    "                count = count + 1\n",
    "            # update mean\n",
    "            mean = mean/count\n",
    "            if distance.euclidean(mean_list[j], mean) > threshold:\n",
    "                converged = False\n",
    "            prev_list[j] = current_list[j]\n",
    "            current_list[j] = mean\n",
    "            # condition for converged\n",
    "            if abs(distance.euclidean(current_list[j],prev_list[j])) < threshold:\n",
    "                result.append(current_list[j])\n",
    "            else:\n",
    "                new_list.append(current_list[j])\n",
    "        print iteration\n",
    "    #     print \"current is \", current\n",
    "    #     print \"prev is \", prev\n",
    "    print \"number of iterations \", iteration    \n",
    "    # print \"converged mode is \", current_list\n",
    "    return current_list"
   ]
  },
  {
   "cell_type": "code",
   "execution_count": 9,
   "metadata": {
    "collapsed": false
   },
   "outputs": [
    {
     "name": "stdout",
     "output_type": "stream",
     "text": [
      "finish fetching data\n"
     ]
    },
    {
     "data": {
      "image/png": "[encoded data removed]",
      "text/plain": [
       "<matplotlib.figure.Figure at 0x108649890>"
      ]
     },
     "metadata": {},
     "output_type": "display_data"
    }
   ],
   "source": [
    "from sklearn.datasets import fetch_mldata\n",
    "from sklearn.utils import shuffle\n",
    "mnist = fetch_mldata('MNIST original', data_home='./data')\n",
    "print \"finish fetching data\"\n",
    "X_digits, _,_, Y_digits = mnist.values() # fetch dataset from internet\n",
    "images0 = []\n",
    "images1 = []\n",
    "images2 = []\n",
    "images3 = []\n",
    "images4 = []\n",
    "images5 = []\n",
    "images6 = []\n",
    "images7 = []\n",
    "images8 = []\n",
    "images9 = []\n",
    "for i in range(len(Y_digits)):\n",
    "    if Y_digits[i] == 0.0:\n",
    "        images0.append(X_digits[i])\n",
    "    elif Y_digits[i] == 1.0:\n",
    "        images1.append(X_digits[i])\n",
    "    elif Y_digits[i] == 2.0:\n",
    "        images2.append(X_digits[i])\n",
    "    elif Y_digits[i] == 3.0:\n",
    "        images3.append(X_digits[i])\n",
    "    elif Y_digits[i] == 4.0:\n",
    "        images4.append(X_digits[i])\n",
    "    elif Y_digits[i] == 5.0:\n",
    "        images5.append(X_digits[i])\n",
    "    elif Y_digits[i] == 6.0:\n",
    "        images6.append(X_digits[i])\n",
    "    elif Y_digits[i] == 7.0:\n",
    "        images7.append(X_digits[i])\n",
    "    elif Y_digits[i] == 8.0:\n",
    "        images8.append(X_digits[i])\n",
    "    elif Y_digits[i] == 9.0:\n",
    "        images9.append(X_digits[i])\n",
    "mnist_true_center1 = []\n",
    "mnist_true_center = []\n",
    "mnist_true_center.append(np.array(images0).mean(axis=0).reshape(28,28))\n",
    "mnist_true_center.append(np.array(images1).mean(axis=0).reshape(28,28))\n",
    "mnist_true_center.append(np.array(images2).mean(axis=0).reshape(28,28))\n",
    "mnist_true_center.append(np.array(images3).mean(axis=0).reshape(28,28))\n",
    "mnist_true_center.append(np.array(images4).mean(axis=0).reshape(28,28))\n",
    "mnist_true_center.append(np.array(images5).mean(axis=0).reshape(28,28))\n",
    "mnist_true_center.append(np.array(images6).mean(axis=0).reshape(28,28))\n",
    "mnist_true_center.append(np.array(images7).mean(axis=0).reshape(28,28))\n",
    "mnist_true_center.append(np.array(images8).mean(axis=0).reshape(28,28))\n",
    "mnist_true_center.append(np.array(images9).mean(axis=0).reshape(28,28))\n",
    "\n",
    "mnist_true_center1.append(np.array(images0).mean(axis=0))\n",
    "mnist_true_center1.append(np.array(images1).mean(axis=0))\n",
    "mnist_true_center1.append(np.array(images2).mean(axis=0))\n",
    "mnist_true_center1.append(np.array(images3).mean(axis=0))\n",
    "mnist_true_center1.append(np.array(images4).mean(axis=0))\n",
    "mnist_true_center1.append(np.array(images5).mean(axis=0))\n",
    "mnist_true_center1.append(np.array(images6).mean(axis=0))\n",
    "mnist_true_center1.append(np.array(images7).mean(axis=0))\n",
    "mnist_true_center1.append(np.array(images8).mean(axis=0))\n",
    "mnist_true_center1.append(np.array(images9).mean(axis=0))\n",
    "\n",
    "plt.rc(\"image\", cmap=\"binary\")\n",
    "plt.imshow(mnist_true_center1[1].reshape(28,28))\n",
    "plt.xticks(())\n",
    "plt.yticks(())\n",
    "plt.show()\n",
    "\n",
    "# for i in mnist_true_center1:\n",
    "#     plt.rc(\"image\", cmap=\"binary\")\n",
    "#     # Display distribution of data from the center\n",
    "#     plt.imshow(i.reshape(28,28))\n",
    "#     plt.xticks(())\n",
    "#     plt.yticks(())\n",
    "#     plt.show()\n",
    "\n",
    "\n"
   ]
  },
  {
   "cell_type": "code",
   "execution_count": 8,
   "metadata": {
    "collapsed": false
   },
   "outputs": [
    {
     "ename": "NameError",
     "evalue": "name 'X_digits' is not defined",
     "output_type": "error",
     "traceback": [
      "\u001b[0;31m---------------------------------------------------------------------------\u001b[0m",
      "\u001b[0;31mNameError\u001b[0m                                 Traceback (most recent call last)",
      "\u001b[0;32m<ipython-input-8-da6edb39ab7b>\u001b[0m in \u001b[0;36m<module>\u001b[0;34m()\u001b[0m\n\u001b[0;32m----> 1\u001b[0;31m \u001b[0mpartial\u001b[0m \u001b[0;34m=\u001b[0m \u001b[0mX_digits\u001b[0m\u001b[0;34m[\u001b[0m\u001b[0;34m-\u001b[0m\u001b[0;36m5000\u001b[0m\u001b[0;34m:\u001b[0m\u001b[0;34m]\u001b[0m\u001b[0;34m\u001b[0m\u001b[0m\n\u001b[0m\u001b[1;32m      2\u001b[0m \u001b[0mtmp\u001b[0m \u001b[0;34m=\u001b[0m \u001b[0mmean_shift\u001b[0m\u001b[0;34m(\u001b[0m\u001b[0mpartial\u001b[0m\u001b[0;34m,\u001b[0m \u001b[0;36m500\u001b[0m\u001b[0;34m)\u001b[0m\u001b[0;34m\u001b[0m\u001b[0m\n\u001b[1;32m      3\u001b[0m \u001b[0;32mfor\u001b[0m \u001b[0mi\u001b[0m \u001b[0;32min\u001b[0m \u001b[0mtmp\u001b[0m\u001b[0;34m:\u001b[0m\u001b[0;34m\u001b[0m\u001b[0m\n\u001b[1;32m      4\u001b[0m     \u001b[0mplt\u001b[0m\u001b[0;34m.\u001b[0m\u001b[0mrc\u001b[0m\u001b[0;34m(\u001b[0m\u001b[0;34m\"image\"\u001b[0m\u001b[0;34m,\u001b[0m \u001b[0mcmap\u001b[0m\u001b[0;34m=\u001b[0m\u001b[0;34m\"binary\"\u001b[0m\u001b[0;34m)\u001b[0m\u001b[0;34m\u001b[0m\u001b[0m\n\u001b[1;32m      5\u001b[0m     \u001b[0mplt\u001b[0m\u001b[0;34m.\u001b[0m\u001b[0mimshow\u001b[0m\u001b[0;34m(\u001b[0m\u001b[0mi\u001b[0m\u001b[0;34m.\u001b[0m\u001b[0mreshape\u001b[0m\u001b[0;34m(\u001b[0m\u001b[0;36m28\u001b[0m\u001b[0;34m,\u001b[0m\u001b[0;36m28\u001b[0m\u001b[0;34m)\u001b[0m\u001b[0;34m)\u001b[0m\u001b[0;34m\u001b[0m\u001b[0m\n",
      "\u001b[0;31mNameError\u001b[0m: name 'X_digits' is not defined"
     ]
    }
   ],
   "source": [
    "partial = X_digits[-5000:]\n",
    "tmp = mean_shift(partial, 500)\n",
    "for i in tmp:\n",
    "    plt.rc(\"image\", cmap=\"binary\")\n",
    "    plt.imshow(i.reshape(28,28))\n",
    "    plt.xticks(())\n",
    "    plt.yticks(())\n",
    "    plt.show()\n"
   ]
  },
  {
   "cell_type": "code",
   "execution_count": 10,
   "metadata": {
    "collapsed": false
   },
   "outputs": [
    {
     "ename": "TypeError",
     "evalue": "mean_shift() takes exactly 3 arguments (2 given)",
     "output_type": "error",
     "traceback": [
      "\u001b[0;31m---------------------------------------------------------------------------\u001b[0m",
      "\u001b[0;31mTypeError\u001b[0m                                 Traceback (most recent call last)",
      "\u001b[0;32m<ipython-input-10-5827191d7c46>\u001b[0m in \u001b[0;36m<module>\u001b[0;34m()\u001b[0m\n\u001b[0;32m----> 1\u001b[0;31m \u001b[0mtmp\u001b[0m \u001b[0;34m=\u001b[0m \u001b[0mmean_shift\u001b[0m\u001b[0;34m(\u001b[0m\u001b[0mimages1\u001b[0m\u001b[0;34m,\u001b[0m\u001b[0;36m200\u001b[0m\u001b[0;34m)\u001b[0m\u001b[0;34m\u001b[0m\u001b[0m\n\u001b[0m\u001b[1;32m      2\u001b[0m \u001b[0;32mimport\u001b[0m \u001b[0mmatplotlib\u001b[0m\u001b[0;34m.\u001b[0m\u001b[0mpyplot\u001b[0m \u001b[0;32mas\u001b[0m \u001b[0mplt\u001b[0m\u001b[0;34m\u001b[0m\u001b[0m\n\u001b[1;32m      3\u001b[0m \u001b[0mplt\u001b[0m\u001b[0;34m.\u001b[0m\u001b[0mrc\u001b[0m\u001b[0;34m(\u001b[0m\u001b[0;34m\"image\"\u001b[0m\u001b[0;34m,\u001b[0m \u001b[0mcmap\u001b[0m\u001b[0;34m=\u001b[0m\u001b[0;34m\"binary\"\u001b[0m\u001b[0;34m)\u001b[0m\u001b[0;34m\u001b[0m\u001b[0m\n\u001b[1;32m      4\u001b[0m \u001b[0mplt\u001b[0m\u001b[0;34m.\u001b[0m\u001b[0mimshow\u001b[0m\u001b[0;34m(\u001b[0m\u001b[0mtmp\u001b[0m\u001b[0;34m[\u001b[0m\u001b[0;36m0\u001b[0m\u001b[0;34m]\u001b[0m\u001b[0;34m.\u001b[0m\u001b[0mreshape\u001b[0m\u001b[0;34m(\u001b[0m\u001b[0;36m28\u001b[0m\u001b[0;34m,\u001b[0m\u001b[0;36m28\u001b[0m\u001b[0;34m)\u001b[0m\u001b[0;34m)\u001b[0m\u001b[0;34m\u001b[0m\u001b[0m\n\u001b[1;32m      5\u001b[0m \u001b[0mplt\u001b[0m\u001b[0;34m.\u001b[0m\u001b[0mxticks\u001b[0m\u001b[0;34m(\u001b[0m\u001b[0;34m(\u001b[0m\u001b[0;34m)\u001b[0m\u001b[0;34m)\u001b[0m\u001b[0;34m\u001b[0m\u001b[0m\n",
      "\u001b[0;31mTypeError\u001b[0m: mean_shift() takes exactly 3 arguments (2 given)"
     ]
    }
   ],
   "source": [
    "tmp = mean_shift(images1,200)\n",
    "import matplotlib.pyplot as plt\n",
    "plt.rc(\"image\", cmap=\"binary\")\n",
    "plt.imshow(tmp[0].reshape(28,28))\n",
    "plt.xticks(())\n",
    "plt.yticks(())\n",
    "plt.show()\n",
    "# for image in tmp:\n",
    "#     plt.rc(\"image\", cmap=\"binary\")\n",
    "#     plt.imshow(image.reshape(28,28))\n",
    "#     plt.xticks(())\n",
    "#     plt.yticks(())\n",
    "#     plt.show()"
   ]
  },
  {
   "cell_type": "code",
   "execution_count": 11,
   "metadata": {
    "collapsed": false
   },
   "outputs": [
    {
     "ename": "TypeError",
     "evalue": "mean_shift() takes exactly 3 arguments (2 given)",
     "output_type": "error",
     "traceback": [
      "\u001b[0;31m---------------------------------------------------------------------------\u001b[0m",
      "\u001b[0;31mTypeError\u001b[0m                                 Traceback (most recent call last)",
      "\u001b[0;32m<ipython-input-11-d042711056a0>\u001b[0m in \u001b[0;36m<module>\u001b[0;34m()\u001b[0m\n\u001b[0;32m----> 1\u001b[0;31m \u001b[0mtmp\u001b[0m \u001b[0;34m=\u001b[0m \u001b[0mmean_shift\u001b[0m\u001b[0;34m(\u001b[0m\u001b[0mimages1\u001b[0m\u001b[0;34m,\u001b[0m\u001b[0;36m100\u001b[0m\u001b[0;34m)\u001b[0m\u001b[0;34m\u001b[0m\u001b[0m\n\u001b[0m\u001b[1;32m      2\u001b[0m \u001b[0;32mimport\u001b[0m \u001b[0mmatplotlib\u001b[0m\u001b[0;34m.\u001b[0m\u001b[0mpyplot\u001b[0m \u001b[0;32mas\u001b[0m \u001b[0mplt\u001b[0m\u001b[0;34m\u001b[0m\u001b[0m\n\u001b[1;32m      3\u001b[0m \u001b[0mplt\u001b[0m\u001b[0;34m.\u001b[0m\u001b[0mrc\u001b[0m\u001b[0;34m(\u001b[0m\u001b[0;34m\"image\"\u001b[0m\u001b[0;34m,\u001b[0m \u001b[0mcmap\u001b[0m\u001b[0;34m=\u001b[0m\u001b[0;34m\"binary\"\u001b[0m\u001b[0;34m)\u001b[0m\u001b[0;34m\u001b[0m\u001b[0m\n\u001b[1;32m      4\u001b[0m \u001b[0mplt\u001b[0m\u001b[0;34m.\u001b[0m\u001b[0mimshow\u001b[0m\u001b[0;34m(\u001b[0m\u001b[0mtmp\u001b[0m\u001b[0;34m[\u001b[0m\u001b[0;36m0\u001b[0m\u001b[0;34m]\u001b[0m\u001b[0;34m.\u001b[0m\u001b[0mreshape\u001b[0m\u001b[0;34m(\u001b[0m\u001b[0;36m28\u001b[0m\u001b[0;34m,\u001b[0m\u001b[0;36m28\u001b[0m\u001b[0;34m)\u001b[0m\u001b[0;34m)\u001b[0m\u001b[0;34m\u001b[0m\u001b[0m\n\u001b[1;32m      5\u001b[0m \u001b[0mplt\u001b[0m\u001b[0;34m.\u001b[0m\u001b[0mxticks\u001b[0m\u001b[0;34m(\u001b[0m\u001b[0;34m(\u001b[0m\u001b[0;34m)\u001b[0m\u001b[0;34m)\u001b[0m\u001b[0;34m\u001b[0m\u001b[0m\n",
      "\u001b[0;31mTypeError\u001b[0m: mean_shift() takes exactly 3 arguments (2 given)"
     ]
    }
   ],
   "source": [
    "tmp = mean_shift(images1,100)\n",
    "import matplotlib.pyplot as plt\n",
    "plt.rc(\"image\", cmap=\"binary\")\n",
    "plt.imshow(tmp[0].reshape(28,28))\n",
    "plt.xticks(())\n",
    "plt.yticks(())\n",
    "plt.show()\n",
    "# for image in tmp:\n",
    "#     plt.rc(\"image\", cmap=\"binary\")\n",
    "#     plt.imshow(image.reshape(28,28))\n",
    "#     plt.xticks(())\n",
    "#     plt.yticks(())\n",
    "#     plt.show()"
   ]
  },
  {
   "cell_type": "code",
   "execution_count": null,
   "metadata": {
    "collapsed": false
   },
   "outputs": [],
   "source": [
    "import matplotlib.pyplot as plt\n",
    "x,y = np.random.multivariate_normal(mean,cov,5000).T\n",
    "plt.plot(x,y,'x'); plt.axis('equal'); plt.show()\n",
    "mean = [0,0] \n",
    "cov = [[1,0],[0,1]] # diagonal covariance, points lie on x or y-axis\n",
    "data_set = np.random.multivariate_normal(mean,cov,5000)\n",
    "mean_shift(data_set, 250)"
   ]
  },
  {
   "cell_type": "code",
   "execution_count": null,
   "metadata": {
    "collapsed": false
   },
   "outputs": [],
   "source": [
    "import matplotlib.pyplot as plt\n",
    "count, bins, ignored = plt.hist(s, 30, normed=True)\n",
    "plt.plot(bins, 1/(sigma * np.sqrt(2 * np.pi)) *\n",
    "               np.exp( - (bins - mu)**2 / (2 * sigma**2) ),\n",
    "         linewidth=2, color='r')\n",
    "plt.show()\n",
    "mean_shift(s, 500)"
   ]
  },
  {
   "cell_type": "code",
   "execution_count": 52,
   "metadata": {
    "collapsed": false
   },
   "outputs": [
    {
     "name": "stdout",
     "output_type": "stream",
     "text": [
      "finish fetching data\n"
     ]
    }
   ],
   "source": [
    "from sklearn.datasets import fetch_mldata\n",
    "from sklearn.utils import shuffle\n",
    "mnist = fetch_mldata('MNIST original', data_home='./data')\n",
    "print \"finish fetching data\"\n",
    "X_digits, _,_, Y_digits = mnist.values() # fetch dataset from internet"
   ]
  }
 ],
 "metadata": {
  "kernelspec": {
   "display_name": "Python 2",
   "language": "python",
   "name": "python2"
  },
  "language_info": {
   "codemirror_mode": {
    "name": "ipython",
    "version": 2
   },
   "file_extension": ".py",
   "mimetype": "text/x-python",
   "name": "python",
   "nbconvert_exporter": "python",
   "pygments_lexer": "ipython2",
   "version": "2.7.9"
  }
 },
 "nbformat": 4,
 "nbformat_minor": 0
}
