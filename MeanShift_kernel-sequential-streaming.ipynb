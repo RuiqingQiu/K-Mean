{
 "cells": [
  {
   "cell_type": "code",
   "execution_count": 33,
   "metadata": {
    "collapsed": false
   },
   "outputs": [],
   "source": [
    "%matplotlib inline\n",
    "import numpy as np\n",
    "from sklearn.cluster import MeanShift, estimate_bandwidth\n",
    "from sklearn.datasets.samples_generator import make_blobs"
   ]
  },
  {
   "cell_type": "code",
   "execution_count": 34,
   "metadata": {
    "collapsed": true
   },
   "outputs": [],
   "source": [
    "from math import exp\n",
    "# define a gaussian kernel function\n",
    "def GaussianKernel(v1, v2, sigma):\n",
    "    return exp(-norm(v1-v2, 2)**2/(2.*sigma**2))\n",
    "\n",
    "# this is a simple kernel function\n",
    "def simpleKernel(n1,n2,sigma):\n",
    "    difference = float(n1) - float(n2)\n",
    "    difference = pow(difference,2)\n",
    "    difference = (-1.0*difference)/ (sigma**2)\n",
    "    return exp(difference)"
   ]
  },
  {
   "cell_type": "code",
   "execution_count": 19,
   "metadata": {
    "collapsed": false
   },
   "outputs": [
    {
     "name": "stdout",
     "output_type": "stream",
     "text": [
      "data set done\n"
     ]
    }
   ],
   "source": [
    "# implement simple mean shift\n",
    "import numpy as np\n",
    "# random pick a point\n",
    "from random import randrange\n",
    "\n",
    "# Generate dataset\n",
    "# keep the dataset the same\n",
    "mu, sigma = 10, 3 # mean and standard deviation\n",
    "dataset = np.random.normal(mu, sigma, 1000)\n",
    "mu, sigma = 20, 3 # mean and standard deviation\n",
    "dataset = np.array(list(dataset) + list(np.random.normal(mu,sigma,1000)))\n",
    "print \"data set done\""
   ]
  },
  {
   "cell_type": "code",
   "execution_count": 44,
   "metadata": {
    "collapsed": false
   },
   "outputs": [
    {
     "data": {
      "image/png": "[encoded data removed]",
      "text/plain": [
       "<matplotlib.figure.Figure at 0x109044810>"
      ]
     },
     "metadata": {},
     "output_type": "display_data"
    }
   ],
   "source": [
    "# graph the previous dataset\n",
    "import matplotlib.pyplot as plt\n",
    "#do not sort the data here\n",
    "#s.sort()\n",
    "count, bins, ignored = plt.hist(dataset, 30, normed=True)\n",
    "for result in result_list:\n",
    "    plt.axvline(result, color='b', linestyle='dashed', linewidth=1)\n",
    "#plt.plot(bins, 1/(sigma * np.sqrt(2 * np.pi)) * np.exp( - (bins - mu)**2 / (2 * sigma**2) ), linewidth=2, color='r')\n",
    "plt.show()"
   ]
  },
  {
   "cell_type": "code",
   "execution_count": 36,
   "metadata": {
    "collapsed": true
   },
   "outputs": [],
   "source": [
    "from scipy.spatial import distance\n",
    "\n",
    "# this function is to calculate the k nearest neighbor\n",
    "def K_Nearest_Neighbor(current, k, data):\n",
    "    return_list = []\n",
    "    index = 0\n",
    "    distanceList = []\n",
    "    for x in data:\n",
    "        distanceList.append((distance.euclidean(current, x), x))\n",
    "    distanceList.sort()\n",
    "    #get the k nearest label\n",
    "    for i in range (0, k):\n",
    "        #append the first k smallest element\n",
    "        return_list.append(distanceList[i][1])\n",
    "    return return_list"
   ]
  },
  {
   "cell_type": "code",
   "execution_count": 43,
   "metadata": {
    "collapsed": false
   },
   "outputs": [
    {
     "name": "stdout",
     "output_type": "stream",
     "text": [
      "final estimate is  9.68427564715\n",
      "final estimate is  10.9203277469\n",
      "final estimate is  16.8236648097\n",
      "final estimate is  8.64409905981\n",
      "final estimate is  10.999797998\n",
      "final estimate is  17.6943058776\n",
      "final estimate is  11.0492493594\n",
      "final estimate is  18.3100939019\n",
      "final estimate is  10.9203277469\n",
      "final estimate is  8.26421532102\n",
      "final estimate is  11.333411094\n",
      "final estimate is  8.30583180461\n",
      "final estimate is  11.6661637661\n",
      "final estimate is  8.26421532102\n",
      "final estimate is  18.3291111258\n",
      "final estimate is  9.65832637781\n",
      "final estimate is  21.0447720586\n",
      "final estimate is  11.6661637661\n",
      "final estimate is  9.86865041475\n",
      "final estimate is  18.036460838\n",
      "final estimate is  10.6552416049\n",
      "final estimate is  21.1664949696\n",
      "final estimate is  18.729666234\n",
      "final estimate is  18.252530721\n",
      "final estimate is  16.2681626641\n",
      "final estimate is  19.9721840114\n",
      "final estimate is  12.0159047972\n",
      "final estimate is  14.6116010112\n",
      "final estimate is  10.6592778691\n",
      "final estimate is  16.5735180041\n",
      "final estimate is  17.5737073507\n",
      "final estimate is  9.68427564715\n",
      "final estimate is  17.6997174798\n",
      "final estimate is  19.5031930106\n",
      "final estimate is  16.7942952116\n",
      "final estimate is  19.1779066457\n",
      "final estimate is  17.7445539104\n",
      "final estimate is  16.8170318553\n",
      "final estimate is  18.3405049584\n",
      "final estimate is  9.80231570244\n",
      "final estimate is  17.896079984\n",
      "final estimate is  19.0614870815\n",
      "final estimate is  15.8872171596\n",
      "final estimate is  12.0342895671\n",
      "final estimate is  19.496070661\n",
      "final estimate is  16.0369061658\n",
      "final estimate is  16.809849848\n",
      "final estimate is  10.6552416049\n",
      "final estimate is  17.7189576758\n",
      "final estimate is  17.8078665001\n",
      "final estimate is  16.5735180041\n",
      "final estimate is  11.5466089031\n",
      "final estimate is  11.5466089031\n",
      "final estimate is  8.98730435385\n",
      "final estimate is  20.9464328639\n",
      "final estimate is  9.14126486659\n",
      "final estimate is  9.83016607115\n",
      "final estimate is  18.9286112628\n",
      "final estimate is  18.729666234\n",
      "final estimate is  20.6281604256\n",
      "final estimate is  20.9920398299\n",
      "final estimate is  18.1509320062\n",
      "final estimate is  11.0206076406\n",
      "final estimate is  18.7418702154\n",
      "final estimate is  11.6661637661\n",
      "final estimate is  19.4893150764\n",
      "final estimate is  22.0262577889\n",
      "final estimate is  13.0492199125\n",
      "final estimate is  21.1664949696\n",
      "final estimate is  11.0522430297\n",
      "final estimate is  10.5115988513\n",
      "final estimate is  20.8924312329\n",
      "final estimate is  17.9031956828\n",
      "final estimate is  16.5503328169\n",
      "final estimate is  17.7189576758\n",
      "final estimate is  18.7702765335\n",
      "final estimate is  9.80231570244\n",
      "final estimate is  18.3853284473\n",
      "final estimate is  21.1664949696\n",
      "final estimate is  21.153247406\n",
      "final estimate is  22.1708368194\n",
      "final estimate is  17.0669190969\n",
      "final estimate is  21.1664949696\n",
      "final estimate is  11.4443269799\n",
      "final estimate is  10.8122258325\n",
      "final estimate is  18.7702765335\n",
      "final estimate is  12.1193936275\n",
      "final estimate is  21.1664949696\n",
      "final estimate is  17.983428954\n",
      "final estimate is  20.6281604256\n",
      "final estimate is  14.6245884377\n",
      "final estimate is  20.6281604256\n",
      "final estimate is  19.1779066457\n",
      "final estimate is  20.8924312329\n",
      "final estimate is  11.5466089031\n",
      "final estimate is  7.29704104368\n",
      "final estimate is  17.4817320478\n",
      "final estimate is  10.1559546327\n",
      "final estimate is  17.8078665001\n",
      "final estimate is  15.879541939\n",
      "final estimate is  21.1664949696\n",
      "final estimate is  22.1584487911\n",
      "final estimate is  18.3291111258\n",
      "final estimate is  11.4443269799\n",
      "final estimate is  20.8924312329\n",
      "final estimate is  13.9106841508\n",
      "final estimate is  21.1664949696\n",
      "final estimate is  13.1360692061\n",
      "final estimate is  6.69255379758\n",
      "final estimate is  19.6620495678\n",
      "final estimate is  17.714030631\n",
      "final estimate is  19.9848374931\n",
      "final estimate is  19.3732517236\n",
      "final estimate is  17.983428954\n",
      "final estimate is  10.8253904192\n",
      "final estimate is  11.3437751986\n",
      "final estimate is  11.0206076406\n",
      "final estimate is  21.0793872468\n",
      "final estimate is  11.6661637661\n",
      "final estimate is  21.281816723\n",
      "final estimate is  16.2996740414\n",
      "final estimate is  19.5978396503\n",
      "final estimate is  20.682313086\n",
      "final estimate is  11.4393977671\n",
      "final estimate is  10.9386777596\n",
      "final estimate is  21.1664949696\n",
      "final estimate is  17.0669190969\n",
      "final estimate is  18.9535384257\n",
      "final estimate is  17.3780234974\n",
      "final estimate is  9.67901394008\n",
      "final estimate is  19.6288923787\n",
      "final estimate is  13.1439294702\n",
      "final estimate is  8.7163218112\n",
      "final estimate is  10.3919740335\n",
      "final estimate is  10.8441635884\n",
      "final estimate is  16.0369061658\n",
      "final estimate is  10.4481066434\n",
      "final estimate is  10.8848314765\n",
      "final estimate is  21.1664949696\n",
      "final estimate is  9.67901394008\n",
      "final estimate is  18.93553777\n",
      "final estimate is  11.4443269799\n",
      "final estimate is  9.64675693484\n",
      "final estimate is  13.3243178835\n",
      "final estimate is  22.7237983351\n",
      "final estimate is  22.1532077835\n",
      "final estimate is  11.8324998923\n",
      "final estimate is  21.1632583013\n",
      "final estimate is  10.4225207626\n",
      "final estimate is  9.68427564715\n",
      "final estimate is  20.6339402974\n",
      "final estimate is  17.9666124783\n",
      "final estimate is  8.7163218112\n",
      "final estimate is  17.1373263019\n",
      "final estimate is  8.75394766199\n",
      "final estimate is  18.9635298989\n",
      "final estimate is  19.6620495678\n",
      "final estimate is  8.5411065571\n",
      "final estimate is  9.04746972433\n",
      "final estimate is  19.688607634\n",
      "final estimate is  11.2110192007\n",
      "final estimate is  8.77921962228\n",
      "final estimate is  10.35705566\n",
      "final estimate is  20.767741531\n",
      "final estimate is  11.6661637661\n",
      "final estimate is  17.0669190969\n",
      "final estimate is  13.1308629686\n",
      "final estimate is  18.9476084737\n",
      "final estimate is  23.4951202554\n",
      "final estimate is  10.9259669273\n",
      "final estimate is  9.97699786257\n",
      "final estimate is  11.4443269799\n",
      "final estimate is  17.7295369761\n",
      "final estimate is  17.5855317635\n",
      "final estimate is  19.6694536479\n",
      "final estimate is  17.3233548753\n",
      "final estimate is  19.3684647767\n",
      "final estimate is  10.033868861\n",
      "final estimate is  8.7163218112\n",
      "final estimate is  18.3291111258\n",
      "final estimate is  8.53566905534\n",
      "final estimate is  22.0262577889\n",
      "final estimate is  20.500641521\n",
      "final estimate is  19.5836476995\n",
      "final estimate is  19.7520148701\n",
      "final estimate is  10.1559546327\n",
      "final estimate is  17.3233548753\n",
      "final estimate is  22.8213772054\n",
      "final estimate is  16.67087108\n",
      "final estimate is  18.3405049584\n",
      "final estimate is  11.0206076406\n",
      "final estimate is  18.9535384257\n",
      "final estimate is  10.6552416049\n",
      "final estimate is  16.809999336\n",
      "final estimate is  22.1477733257\n",
      "final estimate is  17.7489384888\n",
      "final estimate is  17.896079984\n",
      "final estimate is  19.3684647767\n",
      "final estimate is  9.40705000245\n",
      "final estimate is  8.50883266058\n"
     ]
    },
    {
     "data": {
      "image/png": "[encoded data removed]",
      "text/plain": [
       "<matplotlib.figure.Figure at 0x1090637d0>"
      ]
     },
     "metadata": {},
     "output_type": "display_data"
    }
   ],
   "source": [
    "import copy\n",
    "def distance_calculate(estimate, current):\n",
    "    return (abs(estimate-current),current)\n",
    "\n",
    "window_size = 10\n",
    "result_list = []\n",
    "# run experiments\n",
    "for experiment in range(0, 200):\n",
    "    np.random.shuffle(dataset)\n",
    "    estimate = dataset[0]\n",
    "    #print \"estimate is \", estimate\n",
    "    window = []\n",
    "    for i in range(1, 11):\n",
    "        window.append(distance_calculate(estimate, dataset[i]))\n",
    "    window.sort()\n",
    "\n",
    "    #print \"new estimate is \", sum(n for _, n in window) / len(window)\n",
    "    #for i in range(10, len(dataset)):\n",
    "    for i in range(11, len(dataset)):\n",
    "        current = dataset[i]\n",
    "        current_distance = distance_calculate(estimate, current)\n",
    "        #if the distance is samller than the window's last element, update the window\n",
    "        if current_distance[0] < window[len(window)-1][0]:\n",
    "            # remove the last element\n",
    "            window.pop()\n",
    "            window.append(current_distance)\n",
    "        estimate = sum(n for _, n in window) / len(window)\n",
    "        # print \"new estimate is \", estimate\n",
    "        window_copy = copy.deepcopy(window)\n",
    "        window = []\n",
    "        for i in range(0, 10):\n",
    "            window.append(distance_calculate(estimate, window_copy[i][1]))\n",
    "        window.sort()\n",
    "    print \"final estimate is \", estimate\n",
    "    result_list.append(estimate)\n",
    "    #print \"final window is \", window"
   ]
  },
  {
   "cell_type": "code",
   "execution_count": 52,
   "metadata": {
    "collapsed": false
   },
   "outputs": [
    {
     "name": "stdout",
     "output_type": "stream",
     "text": [
      "[[ 0.05481251]\n",
      " [ 0.59849769]\n",
      " [ 0.68600935]\n",
      " ..., \n",
      " [ 0.77140677]\n",
      " [ 0.20525936]\n",
      " [ 0.06343317]]\n",
      "[[ 19.08037224]\n",
      " [ 10.59120416]]\n"
     ]
    }
   ],
   "source": [
    "from sklearn.cluster import KMeans\n",
    "import numpy as np\n",
    "km = KMeans(n_clusters=2)\n",
    "#change result list to column major\n",
    "result_list = np.array(result_list)\n",
    "km.fit(result_list.reshape(-1,1))  # -1 will be calculated to be 13876 here\n",
    "print km.cluster_centers_"
   ]
  },
  {
   "cell_type": "code",
   "execution_count": null,
   "metadata": {
    "collapsed": true
   },
   "outputs": [],
   "source": []
  }
 ],
 "metadata": {
  "kernelspec": {
   "display_name": "Python 2",
   "language": "python",
   "name": "python2"
  },
  "language_info": {
   "codemirror_mode": {
    "name": "ipython",
    "version": 2
   },
   "file_extension": ".py",
   "mimetype": "text/x-python",
   "name": "python",
   "nbconvert_exporter": "python",
   "pygments_lexer": "ipython2",
   "version": "2.7.9"
  }
 },
 "nbformat": 4,
 "nbformat_minor": 0
}
