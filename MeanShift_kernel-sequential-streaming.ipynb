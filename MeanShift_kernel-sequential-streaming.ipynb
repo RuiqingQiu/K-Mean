{
 "cells": [
  {
   "cell_type": "code",
   "execution_count": 72,
   "metadata": {
    "collapsed": false
   },
   "outputs": [],
   "source": [
    "%matplotlib inline\n",
    "import numpy as np\n",
    "from sklearn.cluster import MeanShift, estimate_bandwidth\n",
    "from sklearn.datasets.samples_generator import make_blobs"
   ]
  },
  {
   "cell_type": "code",
   "execution_count": 73,
   "metadata": {
    "collapsed": true
   },
   "outputs": [],
   "source": [
    "from math import exp\n",
    "# define a gaussian kernel function\n",
    "def GaussianKernel(v1, v2, sigma):\n",
    "    return exp(-norm(v1-v2, 2)**2/(2.*sigma**2))\n",
    "\n",
    "# this is a simple kernel function\n",
    "def simpleKernel(n1,n2,sigma):\n",
    "    difference = float(n1) - float(n2)\n",
    "    difference = pow(difference,2)\n",
    "    difference = (-1.0*difference)/ (sigma**2)\n",
    "    return exp(difference)"
   ]
  },
  {
   "cell_type": "code",
   "execution_count": 74,
   "metadata": {
    "collapsed": false
   },
   "outputs": [
    {
     "name": "stdout",
     "output_type": "stream",
     "text": [
      "data set done\n"
     ]
    }
   ],
   "source": [
    "# implement simple mean shift\n",
    "import numpy as np\n",
    "# random pick a point\n",
    "from random import randrange\n",
    "\n",
    "# Generate dataset\n",
    "# keep the dataset the same\n",
    "mu, sigma = 10, 3 # mean and standard deviation\n",
    "dataset = np.random.normal(mu, sigma, 1000)\n",
    "mu, sigma = 20, 3 # mean and standard deviation\n",
    "dataset = np.array(list(dataset) + list(np.random.normal(mu,sigma,1000)))\n",
    "mu, sigma = 30, 3\n",
    "dataset = np.array(list(dataset) + list(np.random.normal(mu,sigma,1000)))\n",
    "print \"data set done\""
   ]
  },
  {
   "cell_type": "code",
   "execution_count": 75,
   "metadata": {
    "collapsed": false
   },
   "outputs": [
    {
     "data": {
      "image/png": "[encoded data removed]",
      "text/plain": [
       "<matplotlib.figure.Figure at 0x108f85a90>"
      ]
     },
     "metadata": {},
     "output_type": "display_data"
    }
   ],
   "source": [
    "# graph the previous dataset\n",
    "import matplotlib.pyplot as plt\n",
    "#do not sort the data here\n",
    "#s.sort()\n",
    "count, bins, ignored = plt.hist(dataset, 30, normed=True)\n",
    "for result in result_list:\n",
    "    plt.axvline(result, color='b', linestyle='dashed', linewidth=1)\n",
    "#plt.plot(bins, 1/(sigma * np.sqrt(2 * np.pi)) * np.exp( - (bins - mu)**2 / (2 * sigma**2) ), linewidth=2, color='r')\n",
    "plt.show()"
   ]
  },
  {
   "cell_type": "code",
   "execution_count": 76,
   "metadata": {
    "collapsed": true
   },
   "outputs": [],
   "source": [
    "from scipy.spatial import distance\n",
    "\n",
    "# this function is to calculate the k nearest neighbor\n",
    "def K_Nearest_Neighbor(current, k, data):\n",
    "    return_list = []\n",
    "    index = 0\n",
    "    distanceList = []\n",
    "    for x in data:\n",
    "        distanceList.append((distance.euclidean(current, x), x))\n",
    "    distanceList.sort()\n",
    "    #get the k nearest label\n",
    "    for i in range (0, k):\n",
    "        #append the first k smallest element\n",
    "        return_list.append(distanceList[i][1])\n",
    "    return return_list"
   ]
  },
  {
   "cell_type": "code",
   "execution_count": 82,
   "metadata": {
    "collapsed": false
   },
   "outputs": [
    {
     "name": "stdout",
     "output_type": "stream",
     "text": [
      "final estimate is  8.22689907018\n",
      "final estimate is  10.0072482272\n",
      "final estimate is  21.6158000957\n",
      "final estimate is  14.0723526185\n",
      "final estimate is  30.1193396519\n",
      "final estimate is  28.8681772855\n",
      "final estimate is  30.4119192202\n",
      "final estimate is  30.4173985143\n",
      "final estimate is  21.6158000957\n",
      "final estimate is  29.1552693218\n",
      "final estimate is  13.313366207\n",
      "final estimate is  18.450316618\n",
      "final estimate is  20.2664317397\n",
      "final estimate is  10.7870255274\n",
      "final estimate is  29.1799570042\n",
      "final estimate is  30.9307324746\n",
      "final estimate is  12.5567367228\n",
      "final estimate is  21.3282602723\n",
      "final estimate is  32.0349656977\n",
      "final estimate is  19.8382596715\n",
      "final estimate is  8.49745539804\n",
      "final estimate is  11.2979580604\n",
      "final estimate is  8.05097566181\n",
      "final estimate is  20.0677114993\n",
      "final estimate is  26.7028845414\n",
      "final estimate is  18.0110689237\n",
      "final estimate is  18.4356352893\n",
      "final estimate is  8.7330507951\n",
      "final estimate is  29.1799570042\n",
      "final estimate is  17.2539249421\n",
      "final estimate is  8.87450497114\n",
      "final estimate is  18.7016836138\n",
      "final estimate is  22.6294056125\n",
      "final estimate is  18.1096933078\n",
      "final estimate is  9.82529665503\n",
      "final estimate is  19.3690503478\n",
      "final estimate is  20.180470416\n",
      "final estimate is  12.0538791138\n",
      "final estimate is  8.78279677102\n",
      "final estimate is  21.5124404034\n",
      "final estimate is  18.5043727754\n",
      "final estimate is  19.7531458546\n",
      "final estimate is  19.7495716531\n",
      "final estimate is  30.4083780145\n",
      "final estimate is  22.1912684315\n",
      "final estimate is  12.0490693636\n",
      "final estimate is  19.7531458546\n",
      "final estimate is  27.4892686875\n",
      "final estimate is  22.159223219\n",
      "final estimate is  29.0346042718\n",
      "final estimate is  19.7495716531\n",
      "final estimate is  27.1366523749\n",
      "final estimate is  27.1366523749\n",
      "final estimate is  9.860558268\n",
      "final estimate is  10.9516748364\n",
      "final estimate is  14.0769448413\n",
      "final estimate is  32.0095392986\n",
      "final estimate is  18.2745954702\n",
      "final estimate is  8.50769134685\n",
      "final estimate is  20.9648683561\n",
      "final estimate is  12.5567367228\n",
      "final estimate is  10.094810836\n",
      "final estimate is  10.094810836\n",
      "final estimate is  29.9989943193\n",
      "final estimate is  9.07860387769\n",
      "final estimate is  22.9508563387\n",
      "final estimate is  25.7520186064\n",
      "final estimate is  30.7456843657\n",
      "final estimate is  7.84318826105\n",
      "final estimate is  19.8934913116\n",
      "final estimate is  10.4156477501\n",
      "final estimate is  12.0490693636\n",
      "final estimate is  30.4173985143\n",
      "final estimate is  9.860558268\n",
      "final estimate is  18.1096933078\n",
      "final estimate is  20.7280625796\n",
      "final estimate is  30.8060130598\n",
      "final estimate is  21.6158000957\n",
      "final estimate is  19.2602372121\n",
      "final estimate is  30.5427134548\n",
      "final estimate is  20.2664317397\n",
      "final estimate is  19.8264761113\n",
      "final estimate is  22.8226853693\n",
      "final estimate is  22.2490793396\n",
      "final estimate is  12.3677229102\n",
      "final estimate is  29.0346042718\n",
      "final estimate is  30.6119403138\n",
      "final estimate is  10.6520619718\n",
      "final estimate is  10.077979731\n",
      "final estimate is  27.6030119747\n",
      "final estimate is  17.5805203301\n",
      "final estimate is  31.5559197109\n",
      "final estimate is  30.7456843657\n",
      "final estimate is  28.4097605667\n",
      "final estimate is  29.4941910549\n",
      "final estimate is  29.8314072159\n",
      "final estimate is  8.49745539804\n",
      "final estimate is  13.2902874328\n",
      "final estimate is  20.0645993504\n",
      "final estimate is  22.4515846181\n"
     ]
    }
   ],
   "source": [
    "import copy\n",
    "def distance_calculate(estimate, current):\n",
    "    return (abs(estimate-current),current)\n",
    "\n",
    "window_size = 10\n",
    "result_list = []\n",
    "# run experiments\n",
    "for experiment in range(0, 100):\n",
    "    np.random.shuffle(dataset)\n",
    "    estimate = dataset[0]\n",
    "    #print \"estimate is \", estimate\n",
    "    window = []\n",
    "    for i in range(1, 11):\n",
    "        window.append(distance_calculate(estimate, dataset[i]))\n",
    "    window.sort()\n",
    "\n",
    "    #print \"new estimate is \", sum(n for _, n in window) / len(window)\n",
    "    #for i in range(10, len(dataset)):\n",
    "    count = 0\n",
    "    for i in range(11, len(dataset)):\n",
    "        current = dataset[i]\n",
    "        current_distance = distance_calculate(estimate, current)\n",
    "        #if the distance is samller than the window's last element, update the window\n",
    "        if current_distance[0] < window[len(window)-1][0]:\n",
    "            # remove the last element\n",
    "            window.pop()\n",
    "            window.append(current_distance)\n",
    "        estimate = sum(n for _, n in window) / len(window)\n",
    "        # print \"new estimate is \", estimate\n",
    "        window_copy = copy.deepcopy(window)\n",
    "        window = []\n",
    "        for i in range(0, 10):\n",
    "            window.append(distance_calculate(estimate, window_copy[i][1]))\n",
    "        window.sort()\n",
    "#         if count == 10:\n",
    "#             count = 0\n",
    "#             estimate = sum(n for _, n in window) / len(window)\n",
    "#             # print \"new estimate is \", estimate\n",
    "#             window_copy = copy.deepcopy(window)\n",
    "#             window = []\n",
    "#             for i in range(0, 10):\n",
    "#                 window.append(distance_calculate(estimate, window_copy[i][1]))\n",
    "#             window.sort()\n",
    "#         count = count + 1\n",
    "    print \"final estimate is \", estimate\n",
    "    result_list.append(estimate)\n",
    "    #print \"final window is \", window"
   ]
  },
  {
   "cell_type": "code",
   "execution_count": 83,
   "metadata": {
    "collapsed": false
   },
   "outputs": [
    {
     "name": "stdout",
     "output_type": "stream",
     "text": [
      "[[ 10.54388806]\n",
      " [ 20.16592721]\n",
      " [ 29.52550125]]\n"
     ]
    }
   ],
   "source": [
    "from sklearn.cluster import KMeans\n",
    "import numpy as np\n",
    "km = KMeans(n_clusters=3)\n",
    "#change result list to column major\n",
    "result_list = np.array(result_list)\n",
    "km.fit(result_list.reshape(-1,1))  # -1 will be calculated to be 13876 here\n",
    "print km.cluster_centers_"
   ]
  },
  {
   "cell_type": "code",
   "execution_count": 68,
   "metadata": {
    "collapsed": false
   },
   "outputs": [],
   "source": [
    "mean = (10,20)\n",
    "cov = [[1,0],[0,1]]\n",
    "dataset = np.random.multivariate_normal(mean,cov,100)\n",
    "#print x"
   ]
  },
  {
   "cell_type": "code",
   "execution_count": 69,
   "metadata": {
    "collapsed": false
   },
   "outputs": [
    {
     "name": "stdout",
     "output_type": "stream",
     "text": [
      "final estimate is  [  9.55627984  20.41860119]\n",
      "final estimate is  [  9.75416187  20.19657632]\n",
      "final estimate is  [ 10.20604076  19.05313338]\n",
      "final estimate is  [ 10.95426477  18.98194814]\n",
      "final estimate is  [  9.76458051  20.10426074]\n",
      "final estimate is  [  9.72558016  20.28224396]\n",
      "final estimate is  [ 10.90402796  20.77477493]\n",
      "final estimate is  [ 10.07270184  19.65537579]\n",
      "final estimate is  [  9.54439     20.50044854]\n",
      "final estimate is  [  9.50444532  20.83992944]\n",
      "final estimate is  [  9.9012361   19.70900312]\n",
      "final estimate is  [  9.53988353  20.67972938]\n",
      "final estimate is  [  9.82695967  20.1454166 ]\n",
      "final estimate is  [  9.46824269  20.92106456]\n",
      "final estimate is  [  9.72997035  19.30532393]\n",
      "final estimate is  [  9.8292643   19.66045952]\n",
      "final estimate is  [  9.62878291  20.75101583]\n",
      "final estimate is  [ 10.2045821   19.33422788]\n",
      "final estimate is  [  9.63587496  19.68856289]\n",
      "final estimate is  [ 10.86270546  20.72030091]\n",
      "final estimate is  [  9.71329519  19.71249351]\n",
      "final estimate is  [ 10.20444513  20.46650615]\n",
      "final estimate is  [  9.78949787  20.02370209]\n",
      "final estimate is  [ 10.44267259  20.85291675]\n",
      "final estimate is  [  9.71329519  19.71249351]\n",
      "final estimate is  [ 10.02061125  20.74638049]\n",
      "final estimate is  [  9.60996412  20.67199253]\n",
      "final estimate is  [  9.40926976  19.65588355]\n",
      "final estimate is  [  9.75416187  20.19657632]\n",
      "final estimate is  [  9.86312517  20.34153107]\n",
      "final estimate is  [ 10.20444513  20.46650615]\n",
      "final estimate is  [  9.74322044  20.03245456]\n",
      "final estimate is  [ 10.8782777   20.69031949]\n",
      "final estimate is  [  9.60151921  20.37896886]\n",
      "final estimate is  [  9.54439     20.50044854]\n",
      "final estimate is  [ 10.26715224  20.25656557]\n",
      "final estimate is  [  9.5690094   20.75792862]\n",
      "final estimate is  [  9.50444532  20.83992944]\n",
      "final estimate is  [  9.66630178  20.59927603]\n",
      "final estimate is  [ 10.0849266   19.50578323]\n",
      "final estimate is  [  9.5690094   20.75792862]\n",
      "final estimate is  [  9.95766053  19.72688743]\n",
      "final estimate is  [  9.96804156  19.71686355]\n",
      "final estimate is  [  9.85187702  20.06485794]\n",
      "final estimate is  [  9.74322044  20.03245456]\n",
      "final estimate is  [ 10.22067923  20.56950702]\n",
      "final estimate is  [  9.50444532  20.83992944]\n",
      "final estimate is  [  9.54439     20.50044854]\n",
      "final estimate is  [  9.72558016  20.28224396]\n",
      "final estimate is  [ 10.48372234  19.21956617]\n",
      "final estimate is  [  9.96804156  19.71686355]\n",
      "final estimate is  [  9.62805064  20.60350852]\n",
      "final estimate is  [  9.58982283  19.72272699]\n",
      "final estimate is  [ 10.1965298   20.80284278]\n",
      "final estimate is  [ 10.84321227  19.41953134]\n",
      "final estimate is  [ 10.87305901  19.43941595]\n",
      "final estimate is  [  9.27845845  19.95343706]\n",
      "final estimate is  [  9.82860767  19.58641017]\n",
      "final estimate is  [  9.78949787  20.02370209]\n",
      "final estimate is  [  9.5911083   20.82445941]\n",
      "final estimate is  [ 10.84321227  19.41953134]\n",
      "final estimate is  [  9.54408472  20.76137063]\n",
      "final estimate is  [  9.81770716  19.73738727]\n",
      "final estimate is  [  9.75416187  20.19657632]\n",
      "final estimate is  [  9.63181832  20.50081605]\n",
      "final estimate is  [  9.54439     20.50044854]\n",
      "final estimate is  [  9.8238522   18.96119813]\n",
      "final estimate is  [  9.55627984  20.41860119]\n",
      "final estimate is  [ 10.27593816  20.8202809 ]\n",
      "final estimate is  [  9.80933124  20.95413233]\n",
      "final estimate is  [  9.54439     20.50044854]\n",
      "final estimate is  [  9.74705513  20.62419755]\n",
      "final estimate is  [ 10.90402796  20.77477493]\n",
      "final estimate is  [ 10.62619156  19.40334998]\n",
      "final estimate is  [  9.76458051  20.10426074]\n",
      "final estimate is  [  9.50444532  20.83992944]\n",
      "final estimate is  [  9.54439     20.50044854]\n",
      "final estimate is  [  9.72558016  20.28224396]\n",
      "final estimate is  [  9.89838743  20.63288883]\n",
      "final estimate is  [  9.80442239  19.89320266]\n",
      "final estimate is  [ 10.26715224  20.25656557]\n",
      "final estimate is  [ 10.85148744  19.51608278]\n",
      "final estimate is  [  9.54439     20.50044854]\n",
      "final estimate is  [ 10.84321227  19.41953134]\n",
      "final estimate is  [  9.82870374  19.99527478]\n",
      "final estimate is  [  9.98570402  20.77649019]\n",
      "final estimate is  [  9.82870374  19.99527478]\n",
      "final estimate is  [  9.55627984  20.41860119]\n",
      "final estimate is  [  9.60996412  20.67199253]\n",
      "final estimate is  [  9.88050509  19.22941186]\n",
      "final estimate is  [  9.80013295  20.90704619]\n",
      "final estimate is  [  9.82860767  19.58641017]\n",
      "final estimate is  [  9.5690094   20.75792862]\n",
      "final estimate is  [  9.74322044  20.03245456]\n",
      "final estimate is  [  9.7451974  20.6222341]\n",
      "final estimate is  [  9.54439     20.50044854]\n",
      "final estimate is  [  9.72558016  20.28224396]\n",
      "final estimate is  [ 10.50216397  19.38188994]\n",
      "final estimate is  [  9.46824269  20.92106456]\n",
      "final estimate is  [  9.88050509  19.22941186]\n"
     ]
    }
   ],
   "source": [
    "import numpy\n",
    "def distance_calculate(estimate, current):\n",
    "    return (numpy.linalg.norm(estimate-current), current)\n",
    "\n",
    "window_size = 10\n",
    "result_list = []\n",
    "# run experiments\n",
    "for experiment in range(0, 100):\n",
    "    np.random.shuffle(dataset)\n",
    "    estimate = dataset[0]\n",
    "    #print \"estimate is \", estimate\n",
    "    window = []\n",
    "    for i in range(1, 11):\n",
    "        window.append(distance_calculate(estimate, dataset[i]))\n",
    "    window.sort()\n",
    "\n",
    "    #print \"new estimate is \", sum(n for _, n in window) / len(window)\n",
    "    #for i in range(10, len(dataset)):\n",
    "    for i in range(11, len(dataset)):\n",
    "        current = dataset[i]\n",
    "        current_distance = distance_calculate(estimate, current)\n",
    "        #if the distance is samller than the window's last element, update the window\n",
    "        if current_distance[0] < window[len(window)-1][0]:\n",
    "            # remove the last element\n",
    "            window.pop()\n",
    "            window.append(current_distance)\n",
    "        estimate = sum(n for _, n in window) / len(window)\n",
    "        # print \"new estimate is \", estimate\n",
    "        window_copy = copy.deepcopy(window)\n",
    "        window = []\n",
    "        for i in range(0, 10):\n",
    "            window.append(distance_calculate(estimate, window_copy[i][1]))\n",
    "        window.sort()\n",
    "    print \"final estimate is \", estimate\n",
    "    result_list.append(estimate)\n",
    "    #print \"final window is \", window"
   ]
  },
  {
   "cell_type": "code",
   "execution_count": null,
   "metadata": {
    "collapsed": true
   },
   "outputs": [],
   "source": []
  }
 ],
 "metadata": {
  "kernelspec": {
   "display_name": "Python 2",
   "language": "python",
   "name": "python2"
  },
  "language_info": {
   "codemirror_mode": {
    "name": "ipython",
    "version": 2
   },
   "file_extension": ".py",
   "mimetype": "text/x-python",
   "name": "python",
   "nbconvert_exporter": "python",
   "pygments_lexer": "ipython2",
   "version": "2.7.9"
  }
 },
 "nbformat": 4,
 "nbformat_minor": 0
}
