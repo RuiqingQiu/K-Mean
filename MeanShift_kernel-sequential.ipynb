{
 "cells": [
  {
   "cell_type": "code",
   "execution_count": 33,
   "metadata": {
    "collapsed": false
   },
   "outputs": [],
   "source": [
    "%matplotlib inline\n",
    "import numpy as np\n",
    "from sklearn.cluster import MeanShift, estimate_bandwidth\n",
    "from sklearn.datasets.samples_generator import make_blobs"
   ]
  },
  {
   "cell_type": "code",
   "execution_count": 34,
   "metadata": {
    "collapsed": true
   },
   "outputs": [],
   "source": [
    "from math import exp\n",
    "# define a gaussian kernel function\n",
    "def GaussianKernel(v1, v2, sigma):\n",
    "    return exp(-norm(v1-v2, 2)**2/(2.*sigma**2))\n",
    "\n",
    "# this is a simple kernel function\n",
    "def simpleKernel(n1,n2,sigma):\n",
    "    difference = float(n1) - float(n2)\n",
    "    difference = pow(difference,2)\n",
    "    difference = (-1.0*difference)/ (sigma**2)\n",
    "    return exp(difference)"
   ]
  },
  {
   "cell_type": "code",
   "execution_count": 35,
   "metadata": {
    "collapsed": false
   },
   "outputs": [
    {
     "name": "stdout",
     "output_type": "stream",
     "text": [
      "Actual mean is  7.8\n"
     ]
    }
   ],
   "source": [
    "# implement simple mean shift\n",
    "import numpy as np\n",
    "# random pick a point\n",
    "from random import randrange\n",
    "\n",
    "# Generate dataset\n",
    "# keep the dataset the same\n",
    "mu, sigma = 7.8, 3 # mean and standard deviation\n",
    "s = np.random.normal(mu, sigma, 1000)\n",
    "print \"Actual mean is \", mu"
   ]
  },
  {
   "cell_type": "code",
   "execution_count": 36,
   "metadata": {
    "collapsed": true
   },
   "outputs": [],
   "source": [
    "from scipy.spatial import distance\n",
    "\n",
    "# this function is to calculate the k nearest neighbor\n",
    "def K_Nearest_Neighbor(current, k, data):\n",
    "    return_list = []\n",
    "    index = 0\n",
    "    distanceList = []\n",
    "    for x in data:\n",
    "        distanceList.append((distance.euclidean(current, x), x))\n",
    "    distanceList.sort()\n",
    "    #get the k nearest label\n",
    "    for i in range (0, k):\n",
    "        #append the first k smallest element\n",
    "        return_list.append(distanceList[i][1])\n",
    "    return return_list"
   ]
  },
  {
   "cell_type": "code",
   "execution_count": 37,
   "metadata": {
    "collapsed": false
   },
   "outputs": [
    {
     "name": "stdout",
     "output_type": "stream",
     "text": [
      "initial estimate mean is  9.7121655802\n",
      "num of experiment is  0\n",
      "number of KNN  30\n",
      "converged mode is  7.79519531588\n",
      "initial estimate mean is  5.26530110306\n",
      "num of experiment is  1\n",
      "number of KNN  27\n",
      "converged mode is  7.7951950359\n",
      "initial estimate mean is  5.31077437904\n",
      "num of experiment is  2\n",
      "number of KNN  27\n",
      "converged mode is  7.79519503623\n"
     ]
    }
   ],
   "source": [
    "threshold = 0.000001\n",
    "prev = 0.0\n",
    "# indicate how many neighbors to look\n",
    "number_of_neighbors = 500\n",
    "\n",
    "# random choose a point\n",
    "random_index = randrange(0,len(s))\n",
    "# randomly initialize the mean\n",
    "estimate = s[random_index]\n",
    "iteration = 0\n",
    "num_of_experiment = 3 # specify run the experiment how many times\n",
    "\n",
    "for i in range(0,num_of_experiment):\n",
    "    random_index = randrange(0,len(s)) # random pick a intial at the beginning every time\n",
    "    estimate = s[random_index]\n",
    "    iteration = 0\n",
    "    print \"initial estimate mean is \", estimate\n",
    "    print \"num of experiment is \", i\n",
    "    # experiment starts\n",
    "    # while less than threshold\n",
    "    while abs(estimate-prev) >= threshold:\n",
    "        lst = K_Nearest_Neighbor(estimate, number_of_neighbors, s)\n",
    "        iteration = iteration + 1\n",
    "        numerator = 0.0\n",
    "        denominator = 0.0\n",
    "        for i in lst:\n",
    "            # apply the kernel function\n",
    "            # current is from the last iteration which get the nearest neighbor\n",
    "            weight = simpleKernel(estimate,i,3.0)\n",
    "            numerator = numerator + weight*i\n",
    "            denominator = denominator + weight\n",
    "        # update mean\n",
    "        prev = estimate\n",
    "        estimate = numerator/denominator\n",
    "        #print \"in while \", estimate\n",
    "    print \"number of KNN \", iteration    \n",
    "    print \"converged mode is \", estimate"
   ]
  },
  {
   "cell_type": "code",
   "execution_count": 30,
   "metadata": {
    "collapsed": true
   },
   "outputs": [],
   "source": [
    "# sequential version of mean shift\n",
    "threshold = 0.000001\n",
    "prev = 0.0\n",
    "# one pass of the dataset\n",
    "number_of_neighbors = 1\n",
    "mu, sigma = 7.8, 3 # mean and standard deviation\n",
    "s = np.random.normal(mu, sigma, 100)"
   ]
  },
  {
   "cell_type": "code",
   "execution_count": 32,
   "metadata": {
    "collapsed": false
   },
   "outputs": [
    {
     "name": "stdout",
     "output_type": "stream",
     "text": [
      "[12.714542769583336, 6.13486421899329, 6.736808314049372, 16.27434621684876, 10.364323287052208, 7.342861421472314, 6.4744545130372035, 5.131644691395783, 9.414533413102951, 10.972199022730653, 5.895162080251051, 9.148910833081837, 0.6434579354653724, 8.406830947678591, 3.583249083716816, 5.892628662583679, 9.218137788997664, 1.3099692758880108, 10.243776260649891, 13.039294731343343, 4.967495733039534, 8.481147828533128, 9.932114201243827, 7.013837841237589, 6.743793489425991, 2.347672410291894, 6.823733787591872, 7.628500435356388, 9.767192047556406, 5.559327391485613, 5.142026786164388, 5.382113722650477, 3.21814990437544, 9.365900150365821, 5.130263101204836, 7.528916059400721, 8.869147823659462, 6.067547584859847, 11.366207133473429, 7.262341539805957, 6.173699154850303, 6.172659391342518, 10.58505750173491, 8.704351915916456, 9.950989002998751, 4.735095232061553, 9.266027891620302, 8.854465970783114, 4.559385160919701, 9.744389917243035, 11.695578524688289, 8.129702924064997, 4.529405362043662, 6.849115714605147, -0.8086432843964557, 10.664436096543746, 10.330738839764074, 8.18680956541464, 3.859166293634562, 4.635487061992912, 7.463671526627402, 6.906791347749644, 7.430109836223055, 7.325090706972622, 6.8648638852168915, 5.322922945377403, 8.918116256816504, 11.35087806166082, 5.702587920502125, 5.171907327415363, 10.663832178068152, 8.136722817145655, 9.749119329487797, 4.146988071337537, 7.718295197476889, 10.476232599218587, 6.672524793710246, 5.220925674537341, 6.682101862482666, 7.393941466563874, 3.6514219023124053, 6.418354147879406, 9.030656086768118, 11.70824400082536, 12.691737093402404, 7.42172413184439, 5.533750621629618, 8.676053887631989, 5.8238262834131245, 8.892834981914513, 6.890326905263281, 4.377241899159157, 10.589499295988123, 13.908218889585864, 7.076110286876039, 10.602736314600701, 9.614300216175469, 11.468974383436294, 6.89957090664661]\n",
      "[9.148910833081837]\n",
      "sample is  [9.148910833081837]\n"
     ]
    },
    {
     "ename": "ValueError",
     "evalue": "list.remove(x): x not in list",
     "output_type": "error",
     "traceback": [
      "\u001b[0;31m---------------------------------------------------------------------------\u001b[0m",
      "\u001b[0;31mValueError\u001b[0m                                Traceback (most recent call last)",
      "\u001b[0;32m<ipython-input-32-044af050b997>\u001b[0m in \u001b[0;36m<module>\u001b[0;34m()\u001b[0m\n\u001b[1;32m      9\u001b[0m     \u001b[0;32mprint\u001b[0m \u001b[0msample\u001b[0m\u001b[0;34m\u001b[0m\u001b[0m\n\u001b[1;32m     10\u001b[0m     \u001b[0;32mprint\u001b[0m \u001b[0;34m\"sample is \"\u001b[0m\u001b[0;34m,\u001b[0m \u001b[0msample\u001b[0m\u001b[0;34m\u001b[0m\u001b[0m\n\u001b[0;32m---> 11\u001b[0;31m     \u001b[0msList\u001b[0m\u001b[0;34m.\u001b[0m\u001b[0mremove\u001b[0m\u001b[0;34m(\u001b[0m\u001b[0msample\u001b[0m\u001b[0;34m)\u001b[0m\u001b[0;34m\u001b[0m\u001b[0m\n\u001b[0m\u001b[1;32m     12\u001b[0m     \u001b[0mprev\u001b[0m \u001b[0;34m=\u001b[0m \u001b[0mestimate\u001b[0m\u001b[0;34m\u001b[0m\u001b[0m\n\u001b[1;32m     13\u001b[0m     \u001b[0mestimate\u001b[0m \u001b[0;34m=\u001b[0m \u001b[0;34m(\u001b[0m\u001b[0mestimate\u001b[0m \u001b[0;34m+\u001b[0m \u001b[0msample\u001b[0m\u001b[0;34m)\u001b[0m\u001b[0;34m*\u001b[0m\u001b[0;36m1.0\u001b[0m\u001b[0;34m/\u001b[0m\u001b[0;36m2\u001b[0m\u001b[0;34m\u001b[0m\u001b[0m\n",
      "\u001b[0;31mValueError\u001b[0m: list.remove(x): x not in list"
     ]
    }
   ],
   "source": [
    "# choose the first point first\n",
    "estimate = s[0]\n",
    "# sList = s.tolist()\n",
    "# sList.remove(estimate)\n",
    "print sList\n",
    "\n",
    "for i in range(1,len(s)):\n",
    "    sample = s[i] # look at one point at a time\n",
    "    print \"sample is \", sample\n",
    "    estimate = (estimate + sample)*1.0/2\n",
    "    print \"estimate is \", estimate\n",
    "#     if abs(estimate - prev) < threshold:\n",
    "#         break\n",
    "print \"final \", estimate    \n",
    "\n",
    "\n",
    "\n"
   ]
  },
  {
   "cell_type": "code",
   "execution_count": 5,
   "metadata": {
    "collapsed": false
   },
   "outputs": [
    {
     "data": {
      "image/png": "[encoded data removed]",
      "text/plain": [
       "<matplotlib.figure.Figure at 0x107ee7590>"
      ]
     },
     "metadata": {},
     "output_type": "display_data"
    }
   ],
   "source": [
    "# graph the previous dataset\n",
    "import matplotlib.pyplot as plt\n",
    "s.sort()\n",
    "count, bins, ignored = plt.hist(s, 30, normed=True)\n",
    "plt.plot(bins, 1/(sigma * np.sqrt(2 * np.pi)) *\n",
    "               np.exp( - (bins - mu)**2 / (2 * sigma**2) ),\n",
    "         linewidth=2, color='r')\n",
    "plt.show()"
   ]
  },
  {
   "cell_type": "code",
   "execution_count": null,
   "metadata": {
    "collapsed": true
   },
   "outputs": [],
   "source": []
  },
  {
   "cell_type": "code",
   "execution_count": null,
   "metadata": {
    "collapsed": true
   },
   "outputs": [],
   "source": []
  }
 ],
 "metadata": {
  "kernelspec": {
   "display_name": "Python 2",
   "language": "python",
   "name": "python2"
  },
  "language_info": {
   "codemirror_mode": {
    "name": "ipython",
    "version": 2
   },
   "file_extension": ".py",
   "mimetype": "text/x-python",
   "name": "python",
   "nbconvert_exporter": "python",
   "pygments_lexer": "ipython2",
   "version": "2.7.9"
  }
 },
 "nbformat": 4,
 "nbformat_minor": 0
}
