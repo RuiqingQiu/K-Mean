{
 "cells": [
  {
   "cell_type": "code",
   "execution_count": 8,
   "metadata": {
    "collapsed": true
   },
   "outputs": [],
   "source": [
    "%matplotlib inline\n",
    "import numpy as np\n",
    "from sklearn.cluster import MeanShift, estimate_bandwidth\n",
    "from sklearn.datasets.samples_generator import make_blobs"
   ]
  },
  {
   "cell_type": "code",
   "execution_count": 9,
   "metadata": {
    "collapsed": true
   },
   "outputs": [],
   "source": [
    "from math import exp\n",
    "# define a gaussian kernel function\n",
    "def GaussianKernel(v1, v2, sigma):\n",
    "    return exp(-norm(v1-v2, 2)**2/(2.*sigma**2))\n",
    "\n",
    "# this is a simple kernel function\n",
    "def simpleKernel(n1,n2,sigma):\n",
    "    difference = float(n1) - float(n2)\n",
    "    difference = pow(difference,2)\n",
    "    difference = (-1.0*difference)/ (sigma**2)\n",
    "    return exp(difference)"
   ]
  },
  {
   "cell_type": "code",
   "execution_count": 10,
   "metadata": {
    "collapsed": true
   },
   "outputs": [],
   "source": [
    "mean = (10,20)\n",
    "cov = [[1,0],[0,1]]\n",
    "dataset = np.random.multivariate_normal(mean,cov,100)\n",
    "#print x"
   ]
  },
  {
   "cell_type": "code",
   "execution_count": 13,
   "metadata": {
    "collapsed": false
   },
   "outputs": [
    {
     "name": "stdout",
     "output_type": "stream",
     "text": [
      "final estimate is  [  9.76453783  19.32489645]\n",
      "final estimate is  [ 10.14818117  19.52317988]\n",
      "final estimate is  [ 10.04255242  20.11642029]\n",
      "final estimate is  [  9.42028028  20.02461339]\n",
      "final estimate is  [  9.51977071  19.96432659]\n",
      "final estimate is  [ 10.76997407  20.03254062]\n",
      "final estimate is  [  9.40953922  19.03648247]\n",
      "final estimate is  [ 10.71835888  19.9997591 ]\n",
      "final estimate is  [  9.46167423  19.19018513]\n",
      "final estimate is  [  9.32635395  19.06100549]\n",
      "final estimate is  [ 10.69299021  20.0797045 ]\n",
      "final estimate is  [ 10.59359147  20.08773776]\n",
      "final estimate is  [ 10.46854019  20.17496709]\n",
      "final estimate is  [  9.5106668  19.9753084]\n",
      "final estimate is  [  9.82162952  19.70037881]\n",
      "final estimate is  [  9.14929699  19.00052612]\n",
      "final estimate is  [ 10.76997407  20.03254062]\n",
      "final estimate is  [ 10.55284621  20.13945363]\n",
      "final estimate is  [  9.86447289  19.61151962]\n",
      "final estimate is  [  9.7391459   19.14765245]\n",
      "final estimate is  [  9.33664788  20.20120662]\n",
      "final estimate is  [  9.57467601  19.94337815]\n",
      "final estimate is  [  9.14929699  19.00052612]\n",
      "final estimate is  [ 10.72048877  20.04633573]\n",
      "final estimate is  [  9.17998083  20.24598988]\n",
      "final estimate is  [ 10.64095141  20.04657766]\n",
      "final estimate is  [ 10.14818117  19.52317988]\n",
      "final estimate is  [  9.76453783  19.32489645]\n",
      "final estimate is  [ 10.72048877  20.04633573]\n",
      "final estimate is  [ 10.72048877  20.04633573]\n",
      "final estimate is  [ 10.72048877  20.04633573]\n",
      "final estimate is  [ 10.77160991  20.01334034]\n",
      "final estimate is  [ 10.72048877  20.04633573]\n",
      "final estimate is  [  9.76453783  19.32489645]\n",
      "final estimate is  [  9.5106668  19.9753084]\n",
      "final estimate is  [ 10.76997407  20.03254062]\n",
      "final estimate is  [  9.12359932  20.77280758]\n",
      "final estimate is  [ 10.76997407  20.03254062]\n",
      "final estimate is  [  9.29620845  20.42154741]\n",
      "final estimate is  [  9.76453783  19.32489645]\n",
      "final estimate is  [  9.76453783  19.32489645]\n",
      "final estimate is  [ 10.3728302   20.31839094]\n",
      "final estimate is  [  9.76453783  19.32489645]\n",
      "final estimate is  [ 10.66757606  20.05995265]\n",
      "final estimate is  [ 10.66757606  20.05995265]\n",
      "final estimate is  [  9.7391459   19.14765245]\n",
      "final estimate is  [  9.76453783  19.32489645]\n",
      "final estimate is  [ 10.71835888  19.9997591 ]\n",
      "final estimate is  [  9.32635395  19.06100549]\n",
      "final estimate is  [ 10.59359147  20.08773776]\n",
      "final estimate is  [  9.23545536  19.02294976]\n",
      "final estimate is  [ 10.76997407  20.03254062]\n",
      "final estimate is  [  9.76453783  19.32489645]\n",
      "final estimate is  [ 10.66281018  20.08656287]\n",
      "final estimate is  [  9.76453783  19.32489645]\n",
      "final estimate is  [  9.54678168  19.90939428]\n",
      "final estimate is  [ 10.77160991  20.01334034]\n",
      "final estimate is  [  9.57467601  19.94337815]\n",
      "final estimate is  [  9.76453783  19.32489645]\n",
      "final estimate is  [ 10.33545604  20.41526082]\n",
      "final estimate is  [ 10.85072823  20.00880165]\n",
      "final estimate is  [  9.14929699  19.00052612]\n",
      "final estimate is  [  9.5106668  19.9753084]\n",
      "final estimate is  [ 10.15568808  19.57681985]\n",
      "final estimate is  [  9.60306004  19.85593976]\n",
      "final estimate is  [  9.8332852   19.45642844]\n",
      "final estimate is  [  9.40953922  19.03648247]\n",
      "final estimate is  [ 10.72048877  20.04633573]\n",
      "final estimate is  [  9.76453783  19.32489645]\n",
      "final estimate is  [ 10.72048877  20.04633573]\n",
      "final estimate is  [ 10.71835888  19.9997591 ]\n",
      "final estimate is  [  9.57467601  19.94337815]\n",
      "final estimate is  [ 10.76997407  20.03254062]\n",
      "final estimate is  [  9.72287431  19.3976467 ]\n",
      "final estimate is  [  9.7391459   19.14765245]\n",
      "final estimate is  [ 10.77160991  20.01334034]\n",
      "final estimate is  [ 10.2652795   19.65233964]\n",
      "final estimate is  [  9.7391459   19.14765245]\n",
      "final estimate is  [  9.62161193  19.98598319]\n",
      "final estimate is  [ 10.71835888  19.9997591 ]\n",
      "final estimate is  [  9.07364956  20.23220377]\n",
      "final estimate is  [  9.57467601  19.94337815]\n",
      "final estimate is  [  9.40953922  19.03648247]\n",
      "final estimate is  [ 10.66281018  20.08656287]\n",
      "final estimate is  [ 10.76997407  20.03254062]\n",
      "final estimate is  [  9.76275447  19.40393934]\n",
      "final estimate is  [ 10.71919126  20.09273417]\n",
      "final estimate is  [  9.5106668  19.9753084]\n",
      "final estimate is  [ 10.72048877  20.04633573]\n",
      "final estimate is  [  9.76453783  19.32489645]\n",
      "final estimate is  [  9.40953922  19.03648247]\n",
      "final estimate is  [  9.76453783  19.32489645]\n",
      "final estimate is  [  9.72804253  19.23789831]\n",
      "final estimate is  [ 10.77160991  20.01334034]\n",
      "final estimate is  [ 10.76997407  20.03254062]\n",
      "final estimate is  [ 10.72048877  20.04633573]\n",
      "final estimate is  [ 10.76997407  20.03254062]\n",
      "final estimate is  [  9.40953922  19.03648247]\n",
      "final estimate is  [ 10.72048877  20.04633573]\n",
      "final estimate is  [  9.76453783  19.32489645]\n"
     ]
    }
   ],
   "source": [
    "import numpy\n",
    "import copy\n",
    "def distance_calculate(estimate, current):\n",
    "    return (numpy.linalg.norm(estimate-current), current)\n",
    "\n",
    "window_size = 10\n",
    "result_list = []\n",
    "# run experiments\n",
    "for experiment in range(0, 100):\n",
    "    np.random.shuffle(dataset)\n",
    "    estimate = dataset[0]\n",
    "    #print \"estimate is \", estimate\n",
    "    window = []\n",
    "    for i in range(1, 11):\n",
    "        window.append(distance_calculate(estimate, dataset[i]))\n",
    "    window.sort()\n",
    "\n",
    "    #print \"new estimate is \", sum(n for _, n in window) / len(window)\n",
    "    #for i in range(10, len(dataset)):\n",
    "    for i in range(11, len(dataset)):\n",
    "        current = dataset[i]\n",
    "        current_distance = distance_calculate(estimate, current)\n",
    "        #if the distance is samller than the window's last element, update the window\n",
    "        if current_distance[0] < window[len(window)-1][0]:\n",
    "            # remove the last element\n",
    "            window.pop()\n",
    "            window.append(current_distance)\n",
    "        estimate = sum(n for _, n in window) / len(window)\n",
    "        # print \"new estimate is \", estimate\n",
    "        window_copy = copy.deepcopy(window)\n",
    "        window = []\n",
    "        for i in range(0, 10):\n",
    "            window.append(distance_calculate(estimate, window_copy[i][1]))\n",
    "        window.sort()\n",
    "    print \"final estimate is \", estimate\n",
    "    result_list.append(estimate)\n",
    "    #print \"final window is \", window"
   ]
  },
  {
   "cell_type": "code",
   "execution_count": 14,
   "metadata": {
    "collapsed": false
   },
   "outputs": [
    {
     "name": "stdout",
     "output_type": "stream",
     "text": [
      "[[ 10.0563746   19.74699824]]\n"
     ]
    }
   ],
   "source": [
    "from sklearn.cluster import KMeans\n",
    "import numpy as np\n",
    "km = KMeans(n_clusters=1)\n",
    "#change result list to column major\n",
    "result_list = np.array(result_list)\n",
    "km.fit(result_list)  # -1 will be calculated to be 13876 here\n",
    "print km.cluster_centers_"
   ]
  },
  {
   "cell_type": "code",
   "execution_count": null,
   "metadata": {
    "collapsed": true
   },
   "outputs": [],
   "source": []
  }
 ],
 "metadata": {
  "kernelspec": {
   "display_name": "Python 2",
   "language": "python",
   "name": "python2"
  },
  "language_info": {
   "codemirror_mode": {
    "name": "ipython",
    "version": 2
   },
   "file_extension": ".py",
   "mimetype": "text/x-python",
   "name": "python",
   "nbconvert_exporter": "python",
   "pygments_lexer": "ipython2",
   "version": "2.7.9"
  }
 },
 "nbformat": 4,
 "nbformat_minor": 0
}
